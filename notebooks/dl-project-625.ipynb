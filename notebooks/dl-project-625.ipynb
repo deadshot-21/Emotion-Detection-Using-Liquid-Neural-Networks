{
 "cells": [
  {
   "cell_type": "code",
   "execution_count": 1,
   "metadata": {
    "execution": {
     "iopub.execute_input": "2024-12-14T22:45:54.215679Z",
     "iopub.status.busy": "2024-12-14T22:45:54.215304Z",
     "iopub.status.idle": "2024-12-14T22:46:06.143017Z",
     "shell.execute_reply": "2024-12-14T22:46:06.142345Z",
     "shell.execute_reply.started": "2024-12-14T22:45:54.215643Z"
    },
    "executionInfo": {
     "elapsed": 17226,
     "status": "ok",
     "timestamp": 1733962453988,
     "user": {
      "displayName": "Soham Vijaykumar Faldu",
      "userId": "13996138885784315256"
     },
     "user_tz": 300
    },
    "id": "T2bC5wU-iYfT",
    "trusted": true
   },
   "outputs": [],
   "source": [
    "import os\n",
    "\n",
    "import numpy as np\n",
    "\n",
    "import librosa\n",
    "\n",
    "import librosa.display\n",
    "\n",
    "import matplotlib.pyplot as plt\n",
    "\n",
    "from sklearn.model_selection import train_test_split\n",
    "\n",
    "from sklearn.metrics import classification_report\n",
    "\n",
    "from sklearn.preprocessing import StandardScaler\n",
    "\n",
    "from sklearn.utils.class_weight import compute_class_weight\n",
    "\n",
    "import tensorflow as tf\n",
    "\n",
    "from tensorflow.keras.utils import to_categorical\n",
    "\n",
    "from tensorflow.keras.models import Model\n",
    "\n",
    "from tensorflow.keras.layers import Input, Dense, RNN, Layer\n",
    "\n",
    "from tensorflow.keras.optimizers import Adam\n",
    "\n",
    "from tensorflow.keras.regularizers import l2\n",
    "\n",
    "# tf.keras.backend.clear_session()"
   ]
  },
  {
   "cell_type": "code",
   "execution_count": 2,
   "metadata": {
    "execution": {
     "iopub.execute_input": "2024-12-14T22:46:06.145604Z",
     "iopub.status.busy": "2024-12-14T22:46:06.144707Z",
     "iopub.status.idle": "2024-12-14T22:46:06.149000Z",
     "shell.execute_reply": "2024-12-14T22:46:06.148247Z",
     "shell.execute_reply.started": "2024-12-14T22:46:06.145559Z"
    },
    "executionInfo": {
     "elapsed": 17,
     "status": "ok",
     "timestamp": 1733962453988,
     "user": {
      "displayName": "Soham Vijaykumar Faldu",
      "userId": "13996138885784315256"
     },
     "user_tz": 300
    },
    "id": "nTeaWQOPiYfW",
    "trusted": true
   },
   "outputs": [],
   "source": [
    "# # Emotion labels in IEMOCAP\n",
    "\n",
    "# emotions = {'ang': 0, 'hap': 1, 'sad': 2, 'neu': 3}\n"
   ]
  },
  {
   "cell_type": "code",
   "execution_count": 3,
   "metadata": {
    "execution": {
     "iopub.execute_input": "2024-12-14T22:46:06.150265Z",
     "iopub.status.busy": "2024-12-14T22:46:06.149986Z",
     "iopub.status.idle": "2024-12-14T22:46:06.172882Z",
     "shell.execute_reply": "2024-12-14T22:46:06.172222Z",
     "shell.execute_reply.started": "2024-12-14T22:46:06.150220Z"
    },
    "executionInfo": {
     "elapsed": 17,
     "status": "ok",
     "timestamp": 1733962453989,
     "user": {
      "displayName": "Soham Vijaykumar Faldu",
      "userId": "13996138885784315256"
     },
     "user_tz": 300
    },
    "id": "cbEjY0itiYfX",
    "trusted": true
   },
   "outputs": [],
   "source": [
    "# def load_iemocap_data(data_path):\n",
    "\n",
    "#     data = []\n",
    "\n",
    "#     labels = []\n",
    "\n",
    "#     sessions = [f'Session{i}' for i in range(1, 6)]\n",
    "\n",
    "#     for session in sessions:\n",
    "\n",
    "#         wav_folder = os.path.join(data_path, session, 'sentences', 'wav')\n",
    "\n",
    "#         # print(wav_folder)\n",
    "\n",
    "#         emo_eval_folder = os.path.join(data_path, session, 'dialog', 'EmoEvaluation')\n",
    "\n",
    "#         # print(emo_eval_folder)\n",
    "\n",
    "#         for root, _, files in os.walk(wav_folder):\n",
    "\n",
    "#             for file in files:\n",
    "\n",
    "#                 if file.endswith('.wav'):\n",
    "\n",
    "#                     wav_file = os.path.join(root, file)\n",
    "\n",
    "#                     # Corresponding emotion label file\n",
    "\n",
    "#                     emo_file = os.path.join(emo_eval_folder, os.path.basename(root) + '.txt')\n",
    "\n",
    "#                     with open(emo_file, 'r') as f:\n",
    "\n",
    "#                         for line in f:\n",
    "\n",
    "#                             if file[:-4] in line:\n",
    "\n",
    "#                                 parts = line.strip().split('\\t')\n",
    "\n",
    "#                                 if len(parts) >= 4:\n",
    "\n",
    "#                                     emotion = parts[2]\n",
    "\n",
    "#                                     if emotion in emotions:\n",
    "\n",
    "#                                         data.append(wav_file)\n",
    "\n",
    "#                                         labels.append(emotions[emotion])\n",
    "\n",
    "#                                 break\n",
    "\n",
    "#     return data, labels\n",
    "\n",
    "\n",
    "\n",
    "# # Load data\n",
    "\n",
    "# data_path = 'C:\\\\Projects\\\\DL\\\\IEMOCAP'  # Update this path\n",
    "\n",
    "# data_files, data_labels = load_iemocap_data(data_path)\n",
    "\n",
    "# print(f'Total samples loaded: {len(data_files)}')\n"
   ]
  },
  {
   "cell_type": "code",
   "execution_count": 4,
   "metadata": {
    "execution": {
     "iopub.execute_input": "2024-12-14T22:46:06.174899Z",
     "iopub.status.busy": "2024-12-14T22:46:06.174663Z",
     "iopub.status.idle": "2024-12-14T22:46:06.190895Z",
     "shell.execute_reply": "2024-12-14T22:46:06.190226Z",
     "shell.execute_reply.started": "2024-12-14T22:46:06.174875Z"
    },
    "executionInfo": {
     "elapsed": 16,
     "status": "ok",
     "timestamp": 1733962453989,
     "user": {
      "displayName": "Soham Vijaykumar Faldu",
      "userId": "13996138885784315256"
     },
     "user_tz": 300
    },
    "id": "OHVRQ2phiYfY",
    "trusted": true
   },
   "outputs": [],
   "source": [
    "def extract_features(file_name):\n",
    "\n",
    "    audio, sample_rate = librosa.load(file_name, sr=None)\n",
    "\n",
    "    # Extract MFCCs\n",
    "\n",
    "    mfcc = librosa.feature.mfcc(y=audio, sr=sample_rate, n_mfcc=13)\n",
    "\n",
    "    # Compute delta and delta-delta of MFCCs\n",
    "\n",
    "    mfcc_delta = librosa.feature.delta(mfcc)\n",
    "\n",
    "    mfcc_delta2 = librosa.feature.delta(mfcc, order=2)\n",
    "\n",
    "    # Concatenate features\n",
    "\n",
    "    features = np.concatenate((mfcc, mfcc_delta, mfcc_delta2), axis=0)\n",
    "\n",
    "    return features.T  # Shape: (time_steps, features)\n",
    "\n",
    "\n",
    "\n",
    "# Example usage\n",
    "\n",
    "# features = extract_features(data_files[0])\n",
    "\n",
    "# print(features)\n"
   ]
  },
  {
   "cell_type": "code",
   "execution_count": 5,
   "metadata": {
    "execution": {
     "iopub.execute_input": "2024-12-14T22:46:06.192457Z",
     "iopub.status.busy": "2024-12-14T22:46:06.191929Z",
     "iopub.status.idle": "2024-12-14T22:46:06.205659Z",
     "shell.execute_reply": "2024-12-14T22:46:06.204974Z",
     "shell.execute_reply.started": "2024-12-14T22:46:06.192419Z"
    },
    "executionInfo": {
     "elapsed": 15,
     "status": "ok",
     "timestamp": 1733962453989,
     "user": {
      "displayName": "Soham Vijaykumar Faldu",
      "userId": "13996138885784315256"
     },
     "user_tz": 300
    },
    "id": "u7d8B8c9iYfY",
    "trusted": true
   },
   "outputs": [],
   "source": [
    "def augment_audio(audio, sample_rate):\n",
    "\n",
    "    augmented_audios = []\n",
    "\n",
    "    # Pitch Shifting\n",
    "\n",
    "    audio_pitched = librosa.effects.pitch_shift(audio, sr=sample_rate, n_steps=2)\n",
    "\n",
    "    augmented_audios.append(audio_pitched)\n",
    "\n",
    "    # Time Stretching\n",
    "\n",
    "    audio_stretched = librosa.effects.time_stretch(audio, rate=0.9)\n",
    "\n",
    "    augmented_audios.append(audio_stretched)\n",
    "\n",
    "    # Adding Noise\n",
    "\n",
    "    noise = np.random.normal(0, 0.005, audio.shape)\n",
    "\n",
    "    audio_noisy = audio + noise\n",
    "\n",
    "    augmented_audios.append(audio_noisy)\n",
    "\n",
    "    return augmented_audios\n"
   ]
  },
  {
   "cell_type": "code",
   "execution_count": 6,
   "metadata": {
    "execution": {
     "iopub.execute_input": "2024-12-14T22:46:06.206685Z",
     "iopub.status.busy": "2024-12-14T22:46:06.206445Z",
     "iopub.status.idle": "2024-12-14T22:46:06.217815Z",
     "shell.execute_reply": "2024-12-14T22:46:06.217175Z",
     "shell.execute_reply.started": "2024-12-14T22:46:06.206663Z"
    },
    "executionInfo": {
     "elapsed": 15,
     "status": "ok",
     "timestamp": 1733962453989,
     "user": {
      "displayName": "Soham Vijaykumar Faldu",
      "userId": "13996138885784315256"
     },
     "user_tz": 300
    },
    "id": "wTo-kYAKiYfY",
    "trusted": true
   },
   "outputs": [],
   "source": [
    "def extract_features_from_audio(audio, sample_rate):\n",
    "\n",
    "    mfcc = librosa.feature.mfcc(y=audio, sr=sample_rate, n_mfcc=13)\n",
    "\n",
    "    mfcc_delta = librosa.feature.delta(mfcc)\n",
    "\n",
    "    mfcc_delta2 = librosa.feature.delta(mfcc, order=2)\n",
    "\n",
    "    features = np.concatenate((mfcc, mfcc_delta, mfcc_delta2), axis=0)\n",
    "\n",
    "    return features.T\n",
    "\n",
    "\n",
    "\n",
    "\n",
    "\n",
    "# X = []\n",
    "\n",
    "# y = []\n",
    "\n",
    "\n",
    "\n",
    "# for i, file in enumerate(data_files):\n",
    "\n",
    "#     audio, sr = librosa.load(file, sr=None)\n",
    "\n",
    "#     # Original features\n",
    "\n",
    "#     features = extract_features_from_audio(audio, sr)\n",
    "\n",
    "#     X.append(features)\n",
    "\n",
    "#     y.append(data_labels[i])\n",
    "\n",
    "#     # Data augmentation\n",
    "\n",
    "#     augmented_audios = augment_audio(audio, sr)\n",
    "\n",
    "#     for aug_audio in augmented_audios:\n",
    "\n",
    "#         # Ensure same length\n",
    "\n",
    "#         aug_audio = librosa.util.fix_length(aug_audio, size=len(audio))\n",
    "\n",
    "#         features_aug = extract_features_from_audio(aug_audio, sr)\n",
    "\n",
    "#         X.append(features_aug)\n",
    "\n",
    "#         y.append(data_labels[i])\n",
    "\n",
    "\n"
   ]
  },
  {
   "cell_type": "code",
   "execution_count": 7,
   "metadata": {
    "execution": {
     "iopub.execute_input": "2024-12-14T22:46:06.218938Z",
     "iopub.status.busy": "2024-12-14T22:46:06.218694Z",
     "iopub.status.idle": "2024-12-14T22:46:06.232011Z",
     "shell.execute_reply": "2024-12-14T22:46:06.231231Z",
     "shell.execute_reply.started": "2024-12-14T22:46:06.218904Z"
    },
    "executionInfo": {
     "elapsed": 14,
     "status": "ok",
     "timestamp": 1733962453989,
     "user": {
      "displayName": "Soham Vijaykumar Faldu",
      "userId": "13996138885784315256"
     },
     "user_tz": 300
    },
    "id": "F3NFxDrLiYfZ",
    "trusted": true
   },
   "outputs": [],
   "source": [
    "# # Find the maximum sequence length\n",
    "\n",
    "# sequence_lengths = [len(features) for features in X]\n",
    "\n",
    "# max_length = max(sequence_lengths)\n",
    "\n",
    "# print(f'Maximum sequence length: {max_length}')\n",
    "\n",
    "\n",
    "\n",
    "# # Pad sequences\n",
    "\n",
    "# def pad_sequence(features, max_length):\n",
    "\n",
    "#     if len(features) < max_length:\n",
    "\n",
    "#         pad_width = max_length - len(features)\n",
    "\n",
    "#         return np.pad(features, ((0, pad_width), (0, 0)), mode='constant')\n",
    "\n",
    "#     else:\n",
    "\n",
    "#         return features[:max_length, :]\n",
    "\n",
    "\n",
    "\n",
    "# X_padded = [pad_sequence(features, max_length) for features in X]\n",
    "\n",
    "# X_padded = np.array(X_padded)\n",
    "\n",
    "# y = np.array(y)\n",
    "\n",
    "# print(f'Shape of X_padded: {X_padded.shape}')\n"
   ]
  },
  {
   "cell_type": "code",
   "execution_count": 8,
   "metadata": {
    "execution": {
     "iopub.execute_input": "2024-12-14T22:46:06.233680Z",
     "iopub.status.busy": "2024-12-14T22:46:06.233371Z",
     "iopub.status.idle": "2024-12-14T22:46:06.245996Z",
     "shell.execute_reply": "2024-12-14T22:46:06.245237Z",
     "shell.execute_reply.started": "2024-12-14T22:46:06.233644Z"
    },
    "executionInfo": {
     "elapsed": 14,
     "status": "ok",
     "timestamp": 1733962453989,
     "user": {
      "displayName": "Soham Vijaykumar Faldu",
      "userId": "13996138885784315256"
     },
     "user_tz": 300
    },
    "id": "O51-CDf_iYfZ",
    "trusted": true
   },
   "outputs": [],
   "source": [
    "# # Reshape for normalization\n",
    "\n",
    "# num_samples, time_steps, num_features = X_padded.shape\n",
    "\n",
    "# X_reshaped = X_padded.reshape(-1, num_features)\n",
    "\n",
    "\n",
    "\n",
    "# # Standardize features\n",
    "\n",
    "# scaler = StandardScaler()\n",
    "\n",
    "# X_normalized = scaler.fit_transform(X_reshaped)\n",
    "\n",
    "\n",
    "\n",
    "# # Reshape back to original shape\n",
    "\n",
    "# X_normalized = X_normalized.reshape(num_samples, time_steps, num_features)\n"
   ]
  },
  {
   "cell_type": "code",
   "execution_count": 9,
   "metadata": {
    "execution": {
     "iopub.execute_input": "2024-12-14T22:46:06.247531Z",
     "iopub.status.busy": "2024-12-14T22:46:06.246985Z",
     "iopub.status.idle": "2024-12-14T22:46:06.255282Z",
     "shell.execute_reply": "2024-12-14T22:46:06.254633Z",
     "shell.execute_reply.started": "2024-12-14T22:46:06.247503Z"
    },
    "executionInfo": {
     "elapsed": 13,
     "status": "ok",
     "timestamp": 1733962453989,
     "user": {
      "displayName": "Soham Vijaykumar Faldu",
      "userId": "13996138885784315256"
     },
     "user_tz": 300
    },
    "id": "L3O0W2UBiYfa",
    "trusted": true
   },
   "outputs": [],
   "source": [
    "# # Compute class weights\n",
    "\n",
    "# class_weights = compute_class_weight('balanced', classes=np.unique(y), y=y)\n",
    "\n",
    "# class_weight_dict = dict(enumerate(class_weights))\n",
    "\n",
    "# print(f'Class weights: {class_weight_dict}')\n"
   ]
  },
  {
   "cell_type": "code",
   "execution_count": 10,
   "metadata": {
    "execution": {
     "iopub.execute_input": "2024-12-14T22:46:06.257885Z",
     "iopub.status.busy": "2024-12-14T22:46:06.257651Z",
     "iopub.status.idle": "2024-12-14T22:46:06.267834Z",
     "shell.execute_reply": "2024-12-14T22:46:06.267196Z",
     "shell.execute_reply.started": "2024-12-14T22:46:06.257862Z"
    },
    "executionInfo": {
     "elapsed": 13,
     "status": "ok",
     "timestamp": 1733962453989,
     "user": {
      "displayName": "Soham Vijaykumar Faldu",
      "userId": "13996138885784315256"
     },
     "user_tz": 300
    },
    "id": "L0YLH9N7iYfa",
    "trusted": true
   },
   "outputs": [],
   "source": [
    "# # One-hot encode labels\n",
    "\n",
    "# num_classes = len(emotions)\n",
    "\n",
    "# y_encoded = to_categorical(y, num_classes=num_classes)\n",
    "\n",
    "\n",
    "\n",
    "# # Split into training and testing sets\n",
    "\n",
    "# X_train, X_test, y_train, y_test = train_test_split(\n",
    "\n",
    "#     X_normalized, y_encoded, test_size=0.2, random_state=42, stratify=y)\n",
    "\n",
    "\n",
    "\n",
    "# print(f'Training samples: {X_train.shape[0]}, Testing samples: {X_test.shape[0]}')\n"
   ]
  },
  {
   "cell_type": "code",
   "execution_count": 11,
   "metadata": {
    "colab": {
     "base_uri": "https://localhost:8080/"
    },
    "execution": {
     "iopub.execute_input": "2024-12-14T22:46:06.268910Z",
     "iopub.status.busy": "2024-12-14T22:46:06.268670Z",
     "iopub.status.idle": "2024-12-14T22:46:29.495950Z",
     "shell.execute_reply": "2024-12-14T22:46:29.495060Z",
     "shell.execute_reply.started": "2024-12-14T22:46:06.268887Z"
    },
    "executionInfo": {
     "elapsed": 75410,
     "status": "ok",
     "timestamp": 1733962529387,
     "user": {
      "displayName": "Soham Vijaykumar Faldu",
      "userId": "13996138885784315256"
     },
     "user_tz": 300
    },
    "id": "ILE3TBlNMYCR",
    "outputId": "81636a03-49b8-4c03-88c1-7f79bc058ac1",
    "trusted": true
   },
   "outputs": [
    {
     "name": "stdout",
     "output_type": "stream",
     "text": [
      "Shape of X_train: (14368, 998, 39)\n",
      "Shape of X_test: (3592, 998, 39)\n",
      "Shape of y_train: (14368, 4)\n",
      "Shape of y_test: (3592, 4)\n"
     ]
    }
   ],
   "source": [
    "# prompt: load X and y csv from google drive\n",
    "\n",
    "\n",
    "\n",
    "import pandas as pd\n",
    "\n",
    "# from google.colab import drive\n",
    "\n",
    "\n",
    "\n",
    "# drive.mount('/content/drive')\n",
    "\n",
    "# X_train = np.load('/content/drive/MyDrive/Deep Learning Project/X_train.npy')\n",
    "\n",
    "# X_test = np.load('/content/drive/MyDrive/Deep Learning Project/X_test.npy')\n",
    "\n",
    "# y_train = np.load('/content/drive/MyDrive/Deep Learning Project/y_train.npy')\n",
    "\n",
    "# y_test = np.load('/content/drive/MyDrive/Deep Learning Project/y_test.npy')\n",
    "\n",
    "# num_classes = 4\n",
    "\n",
    "# class_weight = np.load('/content/drive/MyDrive/Deep Learning Project/class_weights.npy')\n",
    "\n",
    "# class_weight_dict = dict(enumerate(class_weight))\n",
    "\n",
    "\n",
    "\n",
    "# print(f'Shape of X_train: {X_train.shape}')\n",
    "\n",
    "# print(f'Shape of X_test: {X_test.shape}')\n",
    "\n",
    "# print(f'Shape of y_train: {y_train.shape}')\n",
    "\n",
    "# print(f'Shape of y_test: {y_test.shape}')\n",
    "\n",
    "input_dir = '/kaggle/input/lnn-dl-6'  # Replace with the correct path to your .npy files\n",
    "\n",
    "X_train = np.load(os.path.join(input_dir, 'X_train.npy'))\n",
    "X_test = np.load(os.path.join(input_dir, 'X_test.npy'))\n",
    "y_train = np.load(os.path.join(input_dir, 'y_train.npy'))\n",
    "y_test = np.load(os.path.join(input_dir, 'y_test.npy'))\n",
    "class_weight = np.load(os.path.join(input_dir, 'class_weights.npy'))\n",
    "\n",
    "# Convert class weights to a dictionary\n",
    "num_classes = 4\n",
    "class_weight_dict = dict(enumerate(class_weight))\n",
    "\n",
    "# Print shapes of the loaded arrays\n",
    "print(f'Shape of X_train: {X_train.shape}')\n",
    "print(f'Shape of X_test: {X_test.shape}')\n",
    "print(f'Shape of y_train: {y_train.shape}')\n",
    "print(f'Shape of y_test: {y_test.shape}')\n",
    "\n",
    "# print(lnn_dl_path)"
   ]
  },
  {
   "cell_type": "code",
   "execution_count": 12,
   "metadata": {
    "execution": {
     "iopub.execute_input": "2024-12-14T22:46:29.497336Z",
     "iopub.status.busy": "2024-12-14T22:46:29.497019Z",
     "iopub.status.idle": "2024-12-14T22:46:29.501672Z",
     "shell.execute_reply": "2024-12-14T22:46:29.500799Z",
     "shell.execute_reply.started": "2024-12-14T22:46:29.497308Z"
    },
    "executionInfo": {
     "elapsed": 34,
     "status": "ok",
     "timestamp": 1733962529388,
     "user": {
      "displayName": "Soham Vijaykumar Faldu",
      "userId": "13996138885784315256"
     },
     "user_tz": 300
    },
    "id": "b4XijnxZIY0B",
    "trusted": true
   },
   "outputs": [],
   "source": [
    "def clipped_relu(x):\n",
    "\n",
    "    return tf.keras.activations.relu(x, max_value=20.0)\n",
    "\n",
    "\n",
    "\n",
    "def clipped_sigmoid(x):\n",
    "\n",
    "    return tf.keras.activations.sigmoid(x) * 10.0"
   ]
  },
  {
   "cell_type": "code",
   "execution_count": 13,
   "metadata": {
    "execution": {
     "iopub.execute_input": "2024-12-14T22:46:29.503124Z",
     "iopub.status.busy": "2024-12-14T22:46:29.502801Z",
     "iopub.status.idle": "2024-12-14T22:46:29.516102Z",
     "shell.execute_reply": "2024-12-14T22:46:29.515447Z",
     "shell.execute_reply.started": "2024-12-14T22:46:29.503087Z"
    },
    "executionInfo": {
     "elapsed": 32,
     "status": "ok",
     "timestamp": 1733962529388,
     "user": {
      "displayName": "Soham Vijaykumar Faldu",
      "userId": "13996138885784315256"
     },
     "user_tz": 300
    },
    "id": "XITtS03iIdCT",
    "trusted": true
   },
   "outputs": [],
   "source": [
    "import tensorflow.keras as keras\n",
    "@keras.utils.register_keras_serializable(package=\"Custom\", name=\"LTCCell\")\n",
    "class LTCCell(Layer):\n",
    "\n",
    "    def __init__(self, units, ode_unfolds=6, l2_reg=0.001, **kwargs):\n",
    "\n",
    "        super(LTCCell, self).__init__(**kwargs)\n",
    "\n",
    "        self.units = units\n",
    "\n",
    "        self.ode_unfolds = ode_unfolds\n",
    "\n",
    "        self.state_size = units\n",
    "\n",
    "        self.l2_reg = l2_reg  # L2 regularization parameter\n",
    "\n",
    "\n",
    "\n",
    "    def build(self, input_shape):\n",
    "\n",
    "        self.input_dim = input_shape[-1]\n",
    "\n",
    "\n",
    "\n",
    "        # Trainable parameters with L2 regularization\n",
    "\n",
    "        self.W = self.add_weight(\n",
    "\n",
    "            shape=(self.input_dim + self.units, self.units),\n",
    "\n",
    "            initializer='glorot_uniform',\n",
    "\n",
    "            regularizer=l2(self.l2_reg),\n",
    "\n",
    "            name='W'\n",
    "\n",
    "        )\n",
    "\n",
    "        self.bias = self.add_weight(\n",
    "\n",
    "            shape=(self.units,),\n",
    "\n",
    "            initializer='zeros',\n",
    "\n",
    "            name='bias'\n",
    "\n",
    "        )\n",
    "\n",
    "        self.tau = self.add_weight(\n",
    "\n",
    "            shape=(self.units,),\n",
    "\n",
    "            initializer='ones',\n",
    "\n",
    "            name='tau'\n",
    "\n",
    "        )\n",
    "\n",
    "\n",
    "\n",
    "        # Additional parameters for the LTC model\n",
    "\n",
    "        self.C = self.add_weight(\n",
    "\n",
    "            shape=(self.units,),\n",
    "\n",
    "            initializer='ones',\n",
    "\n",
    "            name='C'\n",
    "\n",
    "        )\n",
    "\n",
    "        self.G = self.add_weight(\n",
    "\n",
    "            shape=(self.units,),\n",
    "\n",
    "            initializer='ones',\n",
    "\n",
    "            name='G'\n",
    "\n",
    "        )\n",
    "\n",
    "\n",
    "\n",
    "        super(LTCCell, self).build(input_shape)\n",
    "\n",
    "\n",
    "\n",
    "    def call(self, inputs, states):\n",
    "\n",
    "        prev_state = states[0]\n",
    "\n",
    "        concatenated = tf.concat([inputs, prev_state], axis=1)\n",
    "\n",
    "        dt = 0.01  # Time step\n",
    "\n",
    "\n",
    "\n",
    "        for _ in range(self.ode_unfolds):\n",
    "\n",
    "            dh = (-prev_state + tf.nn.tanh(tf.matmul(concatenated, self.W) + self.bias)) / tf.nn.softplus(self.tau)\n",
    "\n",
    "            prev_state += dt * dh\n",
    "\n",
    "\n",
    "\n",
    "        # Apply custom activation functions\n",
    "\n",
    "        prev_state = clipped_relu(prev_state)\n",
    "\n",
    "        prev_state = prev_state * clipped_sigmoid(self.C)\n",
    "\n",
    "        prev_state = prev_state / clipped_sigmoid(self.G)\n",
    "\n",
    "\n",
    "\n",
    "        return prev_state, [prev_state]\n",
    "    \n",
    "    def get_config(self):\n",
    "        \n",
    "        config = super(LTCCell, self).get_config()\n",
    "        \n",
    "        config.update({\"units\": self.units})\n",
    "        \n",
    "        return config"
   ]
  },
  {
   "cell_type": "code",
   "execution_count": 14,
   "metadata": {
    "execution": {
     "iopub.execute_input": "2024-12-14T22:46:29.517156Z",
     "iopub.status.busy": "2024-12-14T22:46:29.516952Z",
     "iopub.status.idle": "2024-12-14T22:46:29.531959Z",
     "shell.execute_reply": "2024-12-14T22:46:29.531136Z",
     "shell.execute_reply.started": "2024-12-14T22:46:29.517135Z"
    },
    "executionInfo": {
     "elapsed": 31,
     "status": "ok",
     "timestamp": 1733962529388,
     "user": {
      "displayName": "Soham Vijaykumar Faldu",
      "userId": "13996138885784315256"
     },
     "user_tz": 300
    },
    "id": "gAa5ynzvIkfa",
    "trusted": true
   },
   "outputs": [],
   "source": [
    "def build_lnn_model(input_shape, units, num_classes, l2_reg=0.001):\n",
    "\n",
    "    inputs = Input(shape=input_shape)\n",
    "\n",
    "    ltc_cell = LTCCell(units=units, ode_unfolds=6, l2_reg=l2_reg)\n",
    "\n",
    "    rnn_layer = RNN(ltc_cell, return_sequences=False)\n",
    "\n",
    "    x = rnn_layer(inputs)\n",
    "\n",
    "    outputs = Dense(num_classes, activation='softmax', kernel_regularizer=l2(l2_reg))(x)\n",
    "\n",
    "    model = Model(inputs=inputs, outputs=outputs)\n",
    "\n",
    "    return model"
   ]
  },
  {
   "cell_type": "code",
   "execution_count": 15,
   "metadata": {
    "execution": {
     "iopub.execute_input": "2024-12-14T22:46:29.533281Z",
     "iopub.status.busy": "2024-12-14T22:46:29.532943Z",
     "iopub.status.idle": "2024-12-14T22:46:29.549097Z",
     "shell.execute_reply": "2024-12-14T22:46:29.548352Z",
     "shell.execute_reply.started": "2024-12-14T22:46:29.533245Z"
    },
    "executionInfo": {
     "elapsed": 30,
     "status": "ok",
     "timestamp": 1733962529388,
     "user": {
      "displayName": "Soham Vijaykumar Faldu",
      "userId": "13996138885784315256"
     },
     "user_tz": 300
    },
    "id": "BGr1t92rIm7U",
    "trusted": true
   },
   "outputs": [],
   "source": [
    "input_shape = (X_train.shape[1], X_train.shape[2])  # (time_steps, features)\n",
    "\n",
    "units = 16\n",
    "\n",
    "num_classes = 4  # Number of emotion classes"
   ]
  },
  {
   "cell_type": "code",
   "execution_count": 19,
   "metadata": {
    "execution": {
     "iopub.execute_input": "2024-12-14T22:46:29.583630Z",
     "iopub.status.busy": "2024-12-14T22:46:29.583365Z",
     "iopub.status.idle": "2024-12-14T22:46:30.387270Z",
     "shell.execute_reply": "2024-12-14T22:46:30.386576Z",
     "shell.execute_reply.started": "2024-12-14T22:46:29.583606Z"
    },
    "executionInfo": {
     "elapsed": 3565,
     "status": "ok",
     "timestamp": 1733962532927,
     "user": {
      "displayName": "Soham Vijaykumar Faldu",
      "userId": "13996138885784315256"
     },
     "user_tz": 300
    },
    "id": "usTQzbkIiYfa",
    "trusted": true
   },
   "outputs": [],
   "source": [
    "model = build_lnn_model(input_shape, units, num_classes, l2_reg=0.0005)\n",
    "\n",
    "\n",
    "optimizer = Adam(learning_rate=0.0005)\n",
    "\n",
    "model.compile(optimizer=optimizer,\n",
    "\n",
    "              loss='categorical_crossentropy',\n",
    "              # loss=custom_focal_loss,\n",
    "\n",
    "              metrics=['accuracy'])"
   ]
  },
  {
   "cell_type": "code",
   "execution_count": 20,
   "metadata": {
    "colab": {
     "base_uri": "https://localhost:8080/",
     "height": 234
    },
    "execution": {
     "iopub.execute_input": "2024-12-14T22:46:30.388394Z",
     "iopub.status.busy": "2024-12-14T22:46:30.388115Z",
     "iopub.status.idle": "2024-12-14T22:46:30.404739Z",
     "shell.execute_reply": "2024-12-14T22:46:30.403943Z",
     "shell.execute_reply.started": "2024-12-14T22:46:30.388367Z"
    },
    "executionInfo": {
     "elapsed": 32,
     "status": "ok",
     "timestamp": 1733962532934,
     "user": {
      "displayName": "Soham Vijaykumar Faldu",
      "userId": "13996138885784315256"
     },
     "user_tz": 300
    },
    "id": "-LD-XtHqiYfa",
    "outputId": "d6b75da8-05dd-4ccb-b883-4371a979c577",
    "trusted": true
   },
   "outputs": [
    {
     "data": {
      "text/html": [
       "<pre style=\"white-space:pre;overflow-x:auto;line-height:normal;font-family:Menlo,'DejaVu Sans Mono',consolas,'Courier New',monospace\"><span style=\"font-weight: bold\">Model: \"functional_1\"</span>\n",
       "</pre>\n"
      ],
      "text/plain": [
       "\u001b[1mModel: \"functional_1\"\u001b[0m\n"
      ]
     },
     "metadata": {},
     "output_type": "display_data"
    },
    {
     "data": {
      "text/html": [
       "<pre style=\"white-space:pre;overflow-x:auto;line-height:normal;font-family:Menlo,'DejaVu Sans Mono',consolas,'Courier New',monospace\">┏━━━━━━━━━━━━━━━━━━━━━━━━━━━━━━━━━┳━━━━━━━━━━━━━━━━━━━━━━━━┳━━━━━━━━━━━━━━━┓\n",
       "┃<span style=\"font-weight: bold\"> Layer (type)                    </span>┃<span style=\"font-weight: bold\"> Output Shape           </span>┃<span style=\"font-weight: bold\">       Param # </span>┃\n",
       "┡━━━━━━━━━━━━━━━━━━━━━━━━━━━━━━━━━╇━━━━━━━━━━━━━━━━━━━━━━━━╇━━━━━━━━━━━━━━━┩\n",
       "│ input_layer (<span style=\"color: #0087ff; text-decoration-color: #0087ff\">InputLayer</span>)        │ (<span style=\"color: #00d7ff; text-decoration-color: #00d7ff\">None</span>, <span style=\"color: #00af00; text-decoration-color: #00af00\">998</span>, <span style=\"color: #00af00; text-decoration-color: #00af00\">39</span>)        │             <span style=\"color: #00af00; text-decoration-color: #00af00\">0</span> │\n",
       "├─────────────────────────────────┼────────────────────────┼───────────────┤\n",
       "│ rnn (<span style=\"color: #0087ff; text-decoration-color: #0087ff\">RNN</span>)                       │ (<span style=\"color: #00d7ff; text-decoration-color: #00d7ff\">None</span>, <span style=\"color: #00af00; text-decoration-color: #00af00\">16</span>)             │           <span style=\"color: #00af00; text-decoration-color: #00af00\">944</span> │\n",
       "├─────────────────────────────────┼────────────────────────┼───────────────┤\n",
       "│ dense (<span style=\"color: #0087ff; text-decoration-color: #0087ff\">Dense</span>)                   │ (<span style=\"color: #00d7ff; text-decoration-color: #00d7ff\">None</span>, <span style=\"color: #00af00; text-decoration-color: #00af00\">4</span>)              │            <span style=\"color: #00af00; text-decoration-color: #00af00\">68</span> │\n",
       "└─────────────────────────────────┴────────────────────────┴───────────────┘\n",
       "</pre>\n"
      ],
      "text/plain": [
       "┏━━━━━━━━━━━━━━━━━━━━━━━━━━━━━━━━━┳━━━━━━━━━━━━━━━━━━━━━━━━┳━━━━━━━━━━━━━━━┓\n",
       "┃\u001b[1m \u001b[0m\u001b[1mLayer (type)                   \u001b[0m\u001b[1m \u001b[0m┃\u001b[1m \u001b[0m\u001b[1mOutput Shape          \u001b[0m\u001b[1m \u001b[0m┃\u001b[1m \u001b[0m\u001b[1m      Param #\u001b[0m\u001b[1m \u001b[0m┃\n",
       "┡━━━━━━━━━━━━━━━━━━━━━━━━━━━━━━━━━╇━━━━━━━━━━━━━━━━━━━━━━━━╇━━━━━━━━━━━━━━━┩\n",
       "│ input_layer (\u001b[38;5;33mInputLayer\u001b[0m)        │ (\u001b[38;5;45mNone\u001b[0m, \u001b[38;5;34m998\u001b[0m, \u001b[38;5;34m39\u001b[0m)        │             \u001b[38;5;34m0\u001b[0m │\n",
       "├─────────────────────────────────┼────────────────────────┼───────────────┤\n",
       "│ rnn (\u001b[38;5;33mRNN\u001b[0m)                       │ (\u001b[38;5;45mNone\u001b[0m, \u001b[38;5;34m16\u001b[0m)             │           \u001b[38;5;34m944\u001b[0m │\n",
       "├─────────────────────────────────┼────────────────────────┼───────────────┤\n",
       "│ dense (\u001b[38;5;33mDense\u001b[0m)                   │ (\u001b[38;5;45mNone\u001b[0m, \u001b[38;5;34m4\u001b[0m)              │            \u001b[38;5;34m68\u001b[0m │\n",
       "└─────────────────────────────────┴────────────────────────┴───────────────┘\n"
      ]
     },
     "metadata": {},
     "output_type": "display_data"
    },
    {
     "data": {
      "text/html": [
       "<pre style=\"white-space:pre;overflow-x:auto;line-height:normal;font-family:Menlo,'DejaVu Sans Mono',consolas,'Courier New',monospace\"><span style=\"font-weight: bold\"> Total params: </span><span style=\"color: #00af00; text-decoration-color: #00af00\">1,012</span> (3.95 KB)\n",
       "</pre>\n"
      ],
      "text/plain": [
       "\u001b[1m Total params: \u001b[0m\u001b[38;5;34m1,012\u001b[0m (3.95 KB)\n"
      ]
     },
     "metadata": {},
     "output_type": "display_data"
    },
    {
     "data": {
      "text/html": [
       "<pre style=\"white-space:pre;overflow-x:auto;line-height:normal;font-family:Menlo,'DejaVu Sans Mono',consolas,'Courier New',monospace\"><span style=\"font-weight: bold\"> Trainable params: </span><span style=\"color: #00af00; text-decoration-color: #00af00\">1,012</span> (3.95 KB)\n",
       "</pre>\n"
      ],
      "text/plain": [
       "\u001b[1m Trainable params: \u001b[0m\u001b[38;5;34m1,012\u001b[0m (3.95 KB)\n"
      ]
     },
     "metadata": {},
     "output_type": "display_data"
    },
    {
     "data": {
      "text/html": [
       "<pre style=\"white-space:pre;overflow-x:auto;line-height:normal;font-family:Menlo,'DejaVu Sans Mono',consolas,'Courier New',monospace\"><span style=\"font-weight: bold\"> Non-trainable params: </span><span style=\"color: #00af00; text-decoration-color: #00af00\">0</span> (0.00 B)\n",
       "</pre>\n"
      ],
      "text/plain": [
       "\u001b[1m Non-trainable params: \u001b[0m\u001b[38;5;34m0\u001b[0m (0.00 B)\n"
      ]
     },
     "metadata": {},
     "output_type": "display_data"
    }
   ],
   "source": [
    "model.summary()\n"
   ]
  },
  {
   "cell_type": "code",
   "execution_count": 21,
   "metadata": {
    "execution": {
     "iopub.execute_input": "2024-12-14T22:46:30.406219Z",
     "iopub.status.busy": "2024-12-14T22:46:30.405881Z",
     "iopub.status.idle": "2024-12-14T22:46:30.412255Z",
     "shell.execute_reply": "2024-12-14T22:46:30.411545Z",
     "shell.execute_reply.started": "2024-12-14T22:46:30.406166Z"
    },
    "executionInfo": {
     "elapsed": 25,
     "status": "ok",
     "timestamp": 1733962532935,
     "user": {
      "displayName": "Soham Vijaykumar Faldu",
      "userId": "13996138885784315256"
     },
     "user_tz": 300
    },
    "id": "6sveABtwiYfb",
    "trusted": true
   },
   "outputs": [],
   "source": [
    "from tensorflow.keras.callbacks import EarlyStopping, ReduceLROnPlateau\n",
    "\n",
    "\n",
    "\n",
    "early_stopping = EarlyStopping(monitor='val_loss', patience=5, restore_best_weights=True)\n",
    "\n",
    "lr_reduction = ReduceLROnPlateau(monitor='val_loss', factor=0.5, patience=2)\n"
   ]
  },
  {
   "cell_type": "code",
   "execution_count": 31,
   "metadata": {
    "colab": {
     "base_uri": "https://localhost:8080/",
     "height": 803
    },
    "execution": {
     "iopub.execute_input": "2024-12-14T23:41:11.966672Z",
     "iopub.status.busy": "2024-12-14T23:41:11.965857Z",
     "iopub.status.idle": "2024-12-14T23:47:31.780747Z",
     "shell.execute_reply": "2024-12-14T23:47:31.779989Z",
     "shell.execute_reply.started": "2024-12-14T23:41:11.966632Z"
    },
    "executionInfo": {
     "elapsed": 523646,
     "status": "error",
     "timestamp": 1733963056558,
     "user": {
      "displayName": "Soham Vijaykumar Faldu",
      "userId": "13996138885784315256"
     },
     "user_tz": 300
    },
    "id": "1MmdQpQ0iYfb",
    "outputId": "0b07021a-b1f7-43ce-a7d8-ad5f221fc672",
    "trusted": true
   },
   "outputs": [
    {
     "name": "stdout",
     "output_type": "stream",
     "text": [
      "Epoch 1/100\n",
      "\u001b[1m599/599\u001b[0m \u001b[32m━━━━━━━━━━━━━━━━━━━━\u001b[0m\u001b[37m\u001b[0m \u001b[1m76s\u001b[0m 127ms/step - accuracy: 0.6438 - loss: 0.9181 - val_accuracy: 0.6242 - val_loss: 0.9262\n",
      "Epoch 2/100\n",
      "\u001b[1m599/599\u001b[0m \u001b[32m━━━━━━━━━━━━━━━━━━━━\u001b[0m\u001b[37m\u001b[0m \u001b[1m74s\u001b[0m 124ms/step - accuracy: 0.6456 - loss: 0.9154 - val_accuracy: 0.6133 - val_loss: 0.9627\n",
      "Epoch 3/100\n",
      "\u001b[1m599/599\u001b[0m \u001b[32m━━━━━━━━━━━━━━━━━━━━\u001b[0m\u001b[37m\u001b[0m \u001b[1m74s\u001b[0m 124ms/step - accuracy: 0.6383 - loss: 0.9296 - val_accuracy: 0.6233 - val_loss: 0.9362\n",
      "Epoch 4/100\n",
      "\u001b[1m599/599\u001b[0m \u001b[32m━━━━━━━━━━━━━━━━━━━━\u001b[0m\u001b[37m\u001b[0m \u001b[1m74s\u001b[0m 124ms/step - accuracy: 0.6406 - loss: 0.9210 - val_accuracy: 0.6244 - val_loss: 0.9360\n",
      "Epoch 5/100\n",
      "\u001b[1m599/599\u001b[0m \u001b[32m━━━━━━━━━━━━━━━━━━━━\u001b[0m\u001b[37m\u001b[0m \u001b[1m74s\u001b[0m 124ms/step - accuracy: 0.6498 - loss: 0.9039 - val_accuracy: 0.6345 - val_loss: 0.9298\n"
     ]
    }
   ],
   "source": [
    "# history = model.fit(\n",
    "\n",
    "#     X_train, y_train,\n",
    "\n",
    "#     epochs=100,\n",
    "\n",
    "#     batch_size=32,\n",
    "\n",
    "#     validation_data=(X_test, y_test),\n",
    "\n",
    "#     class_weight=class_weight_dict,\n",
    "\n",
    "#     callbacks=[early_stopping, lr_reduction]\n",
    "\n",
    "# )\n",
    "\n",
    "# Train the model\n",
    "\n",
    "history = model.fit(\n",
    "\n",
    "    X_train, y_train,\n",
    "\n",
    "    epochs=100,\n",
    "\n",
    "    batch_size=24,\n",
    "\n",
    "    validation_data=(X_test, y_test),\n",
    "\n",
    "    callbacks=[early_stopping]\n",
    "\n",
    "\n",
    "\n",
    ")\n",
    "\n",
    "\n",
    "\n",
    "# Evaluate the model\n",
    "\n",
    "# loss, accuracy = model.evaluate(X_test, y_test)\n",
    "\n",
    "# print(f'Test Accuracy: {accuracy}')"
   ]
  },
  {
   "cell_type": "code",
   "execution_count": 33,
   "metadata": {
    "execution": {
     "iopub.execute_input": "2024-12-14T23:49:10.537624Z",
     "iopub.status.busy": "2024-12-14T23:49:10.537004Z",
     "iopub.status.idle": "2024-12-14T23:49:14.232632Z",
     "shell.execute_reply": "2024-12-14T23:49:14.231831Z",
     "shell.execute_reply.started": "2024-12-14T23:49:10.537584Z"
    },
    "executionInfo": {
     "elapsed": 8,
     "status": "aborted",
     "timestamp": 1733963056559,
     "user": {
      "displayName": "Soham Vijaykumar Faldu",
      "userId": "13996138885784315256"
     },
     "user_tz": 300
    },
    "id": "ZmN7gBqWiYfb",
    "trusted": true
   },
   "outputs": [
    {
     "name": "stdout",
     "output_type": "stream",
     "text": [
      "\u001b[1m113/113\u001b[0m \u001b[32m━━━━━━━━━━━━━━━━━━━━\u001b[0m\u001b[37m\u001b[0m \u001b[1m2s\u001b[0m 18ms/step - accuracy: 0.6308 - loss: 0.9215\n",
      "Test Accuracy: 62.42%\n"
     ]
    }
   ],
   "source": [
    "# Evaluate on test data\n",
    "\n",
    "test_loss, test_accuracy = model.evaluate(X_test, y_test)\n",
    "\n",
    "print(f'Test Accuracy: {test_accuracy * 100:.2f}%')\n"
   ]
  },
  {
   "cell_type": "code",
   "execution_count": 24,
   "metadata": {
    "execution": {
     "iopub.execute_input": "2024-12-14T23:25:12.201101Z",
     "iopub.status.busy": "2024-12-14T23:25:12.200487Z",
     "iopub.status.idle": "2024-12-14T23:25:16.644166Z",
     "shell.execute_reply": "2024-12-14T23:25:16.643349Z",
     "shell.execute_reply.started": "2024-12-14T23:25:12.201050Z"
    },
    "executionInfo": {
     "elapsed": 7,
     "status": "aborted",
     "timestamp": 1733963056559,
     "user": {
      "displayName": "Soham Vijaykumar Faldu",
      "userId": "13996138885784315256"
     },
     "user_tz": 300
    },
    "id": "eObaSczYiYfb",
    "trusted": true
   },
   "outputs": [
    {
     "name": "stdout",
     "output_type": "stream",
     "text": [
      "\u001b[1m113/113\u001b[0m \u001b[32m━━━━━━━━━━━━━━━━━━━━\u001b[0m\u001b[37m\u001b[0m \u001b[1m3s\u001b[0m 20ms/step\n",
      "              precision    recall  f1-score   support\n",
      "\n",
      "       angry       0.77      0.78      0.78       883\n",
      "       happy       0.00      0.00      0.00       476\n",
      "         sad       0.58      0.74      0.65       867\n",
      "     neutral       0.57      0.67      0.62      1366\n",
      "\n",
      "    accuracy                           0.62      3592\n",
      "   macro avg       0.48      0.55      0.51      3592\n",
      "weighted avg       0.55      0.62      0.58      3592\n",
      "\n"
     ]
    },
    {
     "name": "stderr",
     "output_type": "stream",
     "text": [
      "/opt/conda/lib/python3.10/site-packages/sklearn/metrics/_classification.py:1344: UndefinedMetricWarning: Precision and F-score are ill-defined and being set to 0.0 in labels with no predicted samples. Use `zero_division` parameter to control this behavior.\n",
      "  _warn_prf(average, modifier, msg_start, len(result))\n",
      "/opt/conda/lib/python3.10/site-packages/sklearn/metrics/_classification.py:1344: UndefinedMetricWarning: Precision and F-score are ill-defined and being set to 0.0 in labels with no predicted samples. Use `zero_division` parameter to control this behavior.\n",
      "  _warn_prf(average, modifier, msg_start, len(result))\n",
      "/opt/conda/lib/python3.10/site-packages/sklearn/metrics/_classification.py:1344: UndefinedMetricWarning: Precision and F-score are ill-defined and being set to 0.0 in labels with no predicted samples. Use `zero_division` parameter to control this behavior.\n",
      "  _warn_prf(average, modifier, msg_start, len(result))\n"
     ]
    }
   ],
   "source": [
    "# Predict classes\n",
    "\n",
    "y_pred_probs = model.predict(X_test)\n",
    "\n",
    "y_pred = np.argmax(y_pred_probs, axis=1)\n",
    "\n",
    "y_true = np.argmax(y_test, axis=1)\n",
    "\n",
    "\n",
    "\n",
    "# Classification report\n",
    "\n",
    "target_names = ['angry', 'happy', 'sad', 'neutral']\n",
    "\n",
    "print(classification_report(y_true, y_pred, target_names=target_names))\n"
   ]
  },
  {
   "cell_type": "code",
   "execution_count": 25,
   "metadata": {
    "execution": {
     "iopub.execute_input": "2024-12-14T23:25:16.645480Z",
     "iopub.status.busy": "2024-12-14T23:25:16.645210Z",
     "iopub.status.idle": "2024-12-14T23:25:17.179186Z",
     "shell.execute_reply": "2024-12-14T23:25:17.178379Z",
     "shell.execute_reply.started": "2024-12-14T23:25:16.645454Z"
    },
    "executionInfo": {
     "elapsed": 7,
     "status": "aborted",
     "timestamp": 1733963056559,
     "user": {
      "displayName": "Soham Vijaykumar Faldu",
      "userId": "13996138885784315256"
     },
     "user_tz": 300
    },
    "id": "19IYYx3NiYfb",
    "trusted": true
   },
   "outputs": [
    {
     "data": {
      "image/png": "[encoded data removed]",
      "text/plain": [
       "<Figure size 1200x500 with 2 Axes>"
      ]
     },
     "metadata": {},
     "output_type": "display_data"
    }
   ],
   "source": [
    "# Plot training & validation accuracy values\n",
    "\n",
    "plt.figure(figsize=(12, 5))\n",
    "\n",
    "\n",
    "\n",
    "plt.subplot(1, 2, 1)\n",
    "\n",
    "plt.plot(history.history['accuracy'], label='Train Acc')\n",
    "\n",
    "plt.plot(history.history['val_accuracy'], label='Val Acc')\n",
    "\n",
    "plt.title('Model Accuracy')\n",
    "\n",
    "plt.ylabel('Accuracy')\n",
    "\n",
    "plt.xlabel('Epoch')\n",
    "\n",
    "plt.legend(loc='lower right')\n",
    "\n",
    "\n",
    "\n",
    "# Plot training & validation loss values\n",
    "\n",
    "plt.subplot(1, 2, 2)\n",
    "\n",
    "plt.plot(history.history['loss'], label='Train Loss')\n",
    "\n",
    "plt.plot(history.history['val_loss'], label='Val Loss')\n",
    "\n",
    "plt.title('Model Loss')\n",
    "\n",
    "plt.ylabel('Loss')\n",
    "\n",
    "plt.xlabel('Epoch')\n",
    "\n",
    "plt.legend(loc='upper right')\n",
    "\n",
    "\n",
    "\n",
    "plt.tight_layout()\n",
    "\n",
    "plt.show()\n"
   ]
  },
  {
   "cell_type": "code",
   "execution_count": 28,
   "metadata": {
    "execution": {
     "iopub.execute_input": "2024-12-14T23:32:29.557412Z",
     "iopub.status.busy": "2024-12-14T23:32:29.557039Z",
     "iopub.status.idle": "2024-12-14T23:32:29.579889Z",
     "shell.execute_reply": "2024-12-14T23:32:29.579257Z",
     "shell.execute_reply.started": "2024-12-14T23:32:29.557376Z"
    },
    "trusted": true
   },
   "outputs": [],
   "source": [
    "model.save('emotion_model_631.h5')"
   ]
  }
 ],
 "metadata": {
  "accelerator": "GPU",
  "colab": {
   "gpuType": "T4",
   "provenance": []
  },
  "kaggle": {
   "accelerator": "gpu",
   "dataSources": [
    {
     "datasetId": 6292134,
     "sourceId": 10185245,
     "sourceType": "datasetVersion"
    },
    {
     "datasetId": 6299182,
     "sourceId": 10194675,
     "sourceType": "datasetVersion"
    }
   ],
   "dockerImageVersionId": 30805,
   "isGpuEnabled": true,
   "isInternetEnabled": true,
   "language": "python",
   "sourceType": "notebook"
  },
  "kernelspec": {
   "display_name": "Python 3",
   "language": "python",
   "name": "python3"
  },
  "language_info": {
   "codemirror_mode": {
    "name": "ipython",
    "version": 3
   },
   "file_extension": ".py",
   "mimetype": "text/x-python",
   "name": "python",
   "nbconvert_exporter": "python",
   "pygments_lexer": "ipython3",
   "version": "3.10.14"
  }
 },
 "nbformat": 4,
 "nbformat_minor": 4
}
