{
 "cells": [
  {
   "cell_type": "code",
   "execution_count": 1,
   "metadata": {
    "execution": {
     "iopub.execute_input": "2024-12-14T20:00:46.810330Z",
     "iopub.status.busy": "2024-12-14T20:00:46.809697Z",
     "iopub.status.idle": "2024-12-14T20:01:00.278748Z",
     "shell.execute_reply": "2024-12-14T20:01:00.277762Z",
     "shell.execute_reply.started": "2024-12-14T20:00:46.810290Z"
    },
    "executionInfo": {
     "elapsed": 17226,
     "status": "ok",
     "timestamp": 1733962453988,
     "user": {
      "displayName": "Soham Vijaykumar Faldu",
      "userId": "13996138885784315256"
     },
     "user_tz": 300
    },
    "id": "T2bC5wU-iYfT",
    "trusted": true
   },
   "outputs": [],
   "source": [
    "import os\n",
    "\n",
    "import numpy as np\n",
    "\n",
    "import librosa\n",
    "\n",
    "import librosa.display\n",
    "\n",
    "import matplotlib.pyplot as plt\n",
    "\n",
    "from sklearn.model_selection import train_test_split\n",
    "\n",
    "from sklearn.metrics import classification_report\n",
    "\n",
    "from sklearn.preprocessing import StandardScaler\n",
    "\n",
    "from sklearn.utils.class_weight import compute_class_weight\n",
    "\n",
    "import tensorflow as tf\n",
    "\n",
    "from tensorflow.keras.utils import to_categorical\n",
    "\n",
    "from tensorflow.keras.models import Model\n",
    "\n",
    "from tensorflow.keras.layers import Input, Dense, RNN, Layer\n",
    "\n",
    "from tensorflow.keras.optimizers import Adam\n",
    "\n",
    "from tensorflow.keras.regularizers import l2\n",
    "# tf.keras.backend.clear_session()"
   ]
  },
  {
   "cell_type": "code",
   "execution_count": 2,
   "metadata": {
    "execution": {
     "iopub.execute_input": "2024-12-12T19:10:05.773178Z",
     "iopub.status.busy": "2024-12-12T19:10:05.772570Z",
     "iopub.status.idle": "2024-12-12T19:10:05.777449Z",
     "shell.execute_reply": "2024-12-12T19:10:05.776522Z",
     "shell.execute_reply.started": "2024-12-12T19:10:05.773136Z"
    },
    "executionInfo": {
     "elapsed": 17,
     "status": "ok",
     "timestamp": 1733962453988,
     "user": {
      "displayName": "Soham Vijaykumar Faldu",
      "userId": "13996138885784315256"
     },
     "user_tz": 300
    },
    "id": "nTeaWQOPiYfW",
    "trusted": true
   },
   "outputs": [],
   "source": [
    "# # Emotion labels in IEMOCAP\n",
    "\n",
    "# emotions = {'ang': 0, 'hap': 1, 'sad': 2, 'neu': 3}\n"
   ]
  },
  {
   "cell_type": "code",
   "execution_count": 3,
   "metadata": {
    "execution": {
     "iopub.execute_input": "2024-12-12T19:10:05.778952Z",
     "iopub.status.busy": "2024-12-12T19:10:05.778722Z",
     "iopub.status.idle": "2024-12-12T19:10:05.793248Z",
     "shell.execute_reply": "2024-12-12T19:10:05.792475Z",
     "shell.execute_reply.started": "2024-12-12T19:10:05.778929Z"
    },
    "executionInfo": {
     "elapsed": 17,
     "status": "ok",
     "timestamp": 1733962453989,
     "user": {
      "displayName": "Soham Vijaykumar Faldu",
      "userId": "13996138885784315256"
     },
     "user_tz": 300
    },
    "id": "cbEjY0itiYfX",
    "trusted": true
   },
   "outputs": [],
   "source": [
    "# def load_iemocap_data(data_path):\n",
    "\n",
    "#     data = []\n",
    "\n",
    "#     labels = []\n",
    "\n",
    "#     sessions = [f'Session{i}' for i in range(1, 6)]\n",
    "\n",
    "#     for session in sessions:\n",
    "\n",
    "#         wav_folder = os.path.join(data_path, session, 'sentences', 'wav')\n",
    "\n",
    "#         # print(wav_folder)\n",
    "\n",
    "#         emo_eval_folder = os.path.join(data_path, session, 'dialog', 'EmoEvaluation')\n",
    "\n",
    "#         # print(emo_eval_folder)\n",
    "\n",
    "#         for root, _, files in os.walk(wav_folder):\n",
    "\n",
    "#             for file in files:\n",
    "\n",
    "#                 if file.endswith('.wav'):\n",
    "\n",
    "#                     wav_file = os.path.join(root, file)\n",
    "\n",
    "#                     # Corresponding emotion label file\n",
    "\n",
    "#                     emo_file = os.path.join(emo_eval_folder, os.path.basename(root) + '.txt')\n",
    "\n",
    "#                     with open(emo_file, 'r') as f:\n",
    "\n",
    "#                         for line in f:\n",
    "\n",
    "#                             if file[:-4] in line:\n",
    "\n",
    "#                                 parts = line.strip().split('\\t')\n",
    "\n",
    "#                                 if len(parts) >= 4:\n",
    "\n",
    "#                                     emotion = parts[2]\n",
    "\n",
    "#                                     if emotion in emotions:\n",
    "\n",
    "#                                         data.append(wav_file)\n",
    "\n",
    "#                                         labels.append(emotions[emotion])\n",
    "\n",
    "#                                 break\n",
    "\n",
    "#     return data, labels\n",
    "\n",
    "\n",
    "\n",
    "# # Load data\n",
    "\n",
    "# data_path = 'C:\\\\Projects\\\\DL\\\\IEMOCAP'  # Update this path\n",
    "\n",
    "# data_files, data_labels = load_iemocap_data(data_path)\n",
    "\n",
    "# print(f'Total samples loaded: {len(data_files)}')\n"
   ]
  },
  {
   "cell_type": "code",
   "execution_count": 2,
   "metadata": {
    "execution": {
     "iopub.execute_input": "2024-12-14T20:02:04.577326Z",
     "iopub.status.busy": "2024-12-14T20:02:04.576828Z",
     "iopub.status.idle": "2024-12-14T20:02:04.584724Z",
     "shell.execute_reply": "2024-12-14T20:02:04.583677Z",
     "shell.execute_reply.started": "2024-12-14T20:02:04.577281Z"
    },
    "executionInfo": {
     "elapsed": 16,
     "status": "ok",
     "timestamp": 1733962453989,
     "user": {
      "displayName": "Soham Vijaykumar Faldu",
      "userId": "13996138885784315256"
     },
     "user_tz": 300
    },
    "id": "OHVRQ2phiYfY",
    "trusted": true
   },
   "outputs": [],
   "source": [
    "def extract_features(file_name):\n",
    "\n",
    "    audio, sample_rate = librosa.load(file_name, sr=None)\n",
    "\n",
    "    # Extract MFCCs\n",
    "\n",
    "    mfcc = librosa.feature.mfcc(y=audio, sr=sample_rate, n_mfcc=13)\n",
    "\n",
    "    # Compute delta and delta-delta of MFCCs\n",
    "\n",
    "    mfcc_delta = librosa.feature.delta(mfcc)\n",
    "\n",
    "    mfcc_delta2 = librosa.feature.delta(mfcc, order=2)\n",
    "\n",
    "    # Concatenate features\n",
    "\n",
    "    features = np.concatenate((mfcc, mfcc_delta, mfcc_delta2), axis=0)\n",
    "\n",
    "    return features.T  # Shape: (time_steps, features)\n",
    "\n",
    "\n",
    "\n",
    "# Example usage\n",
    "\n",
    "# features = extract_features(data_files[0])\n",
    "\n",
    "# print(features)\n"
   ]
  },
  {
   "cell_type": "code",
   "execution_count": 5,
   "metadata": {
    "execution": {
     "iopub.execute_input": "2024-12-12T19:10:05.811427Z",
     "iopub.status.busy": "2024-12-12T19:10:05.811115Z",
     "iopub.status.idle": "2024-12-12T19:10:05.825983Z",
     "shell.execute_reply": "2024-12-12T19:10:05.825166Z",
     "shell.execute_reply.started": "2024-12-12T19:10:05.811402Z"
    },
    "executionInfo": {
     "elapsed": 15,
     "status": "ok",
     "timestamp": 1733962453989,
     "user": {
      "displayName": "Soham Vijaykumar Faldu",
      "userId": "13996138885784315256"
     },
     "user_tz": 300
    },
    "id": "u7d8B8c9iYfY",
    "trusted": true
   },
   "outputs": [],
   "source": [
    "def augment_audio(audio, sample_rate):\n",
    "\n",
    "    augmented_audios = []\n",
    "\n",
    "    # Pitch Shifting\n",
    "\n",
    "    audio_pitched = librosa.effects.pitch_shift(audio, sr=sample_rate, n_steps=2)\n",
    "\n",
    "    augmented_audios.append(audio_pitched)\n",
    "\n",
    "    # Time Stretching\n",
    "\n",
    "    audio_stretched = librosa.effects.time_stretch(audio, rate=0.9)\n",
    "\n",
    "    augmented_audios.append(audio_stretched)\n",
    "\n",
    "    # Adding Noise\n",
    "\n",
    "    noise = np.random.normal(0, 0.005, audio.shape)\n",
    "\n",
    "    audio_noisy = audio + noise\n",
    "\n",
    "    augmented_audios.append(audio_noisy)\n",
    "\n",
    "    return augmented_audios\n"
   ]
  },
  {
   "cell_type": "code",
   "execution_count": 6,
   "metadata": {
    "execution": {
     "iopub.execute_input": "2024-12-12T19:10:05.827125Z",
     "iopub.status.busy": "2024-12-12T19:10:05.826879Z",
     "iopub.status.idle": "2024-12-12T19:10:05.842270Z",
     "shell.execute_reply": "2024-12-12T19:10:05.841489Z",
     "shell.execute_reply.started": "2024-12-12T19:10:05.827102Z"
    },
    "executionInfo": {
     "elapsed": 15,
     "status": "ok",
     "timestamp": 1733962453989,
     "user": {
      "displayName": "Soham Vijaykumar Faldu",
      "userId": "13996138885784315256"
     },
     "user_tz": 300
    },
    "id": "wTo-kYAKiYfY",
    "trusted": true
   },
   "outputs": [],
   "source": [
    "def extract_features_from_audio(audio, sample_rate):\n",
    "\n",
    "    mfcc = librosa.feature.mfcc(y=audio, sr=sample_rate, n_mfcc=13)\n",
    "\n",
    "    mfcc_delta = librosa.feature.delta(mfcc)\n",
    "\n",
    "    mfcc_delta2 = librosa.feature.delta(mfcc, order=2)\n",
    "\n",
    "    features = np.concatenate((mfcc, mfcc_delta, mfcc_delta2), axis=0)\n",
    "\n",
    "    return features.T\n",
    "\n",
    "\n",
    "\n",
    "\n",
    "\n",
    "# X = []\n",
    "\n",
    "# y = []\n",
    "\n",
    "\n",
    "\n",
    "# for i, file in enumerate(data_files):\n",
    "\n",
    "#     audio, sr = librosa.load(file, sr=None)\n",
    "\n",
    "#     # Original features\n",
    "\n",
    "#     features = extract_features_from_audio(audio, sr)\n",
    "\n",
    "#     X.append(features)\n",
    "\n",
    "#     y.append(data_labels[i])\n",
    "\n",
    "#     # Data augmentation\n",
    "\n",
    "#     augmented_audios = augment_audio(audio, sr)\n",
    "\n",
    "#     for aug_audio in augmented_audios:\n",
    "\n",
    "#         # Ensure same length\n",
    "\n",
    "#         aug_audio = librosa.util.fix_length(aug_audio, size=len(audio))\n",
    "\n",
    "#         features_aug = extract_features_from_audio(aug_audio, sr)\n",
    "\n",
    "#         X.append(features_aug)\n",
    "\n",
    "#         y.append(data_labels[i])\n",
    "\n",
    "\n"
   ]
  },
  {
   "cell_type": "code",
   "execution_count": 7,
   "metadata": {
    "execution": {
     "iopub.execute_input": "2024-12-12T19:10:05.843479Z",
     "iopub.status.busy": "2024-12-12T19:10:05.843201Z",
     "iopub.status.idle": "2024-12-12T19:10:05.869402Z",
     "shell.execute_reply": "2024-12-12T19:10:05.868646Z",
     "shell.execute_reply.started": "2024-12-12T19:10:05.843451Z"
    },
    "executionInfo": {
     "elapsed": 14,
     "status": "ok",
     "timestamp": 1733962453989,
     "user": {
      "displayName": "Soham Vijaykumar Faldu",
      "userId": "13996138885784315256"
     },
     "user_tz": 300
    },
    "id": "F3NFxDrLiYfZ",
    "trusted": true
   },
   "outputs": [],
   "source": [
    "# # Find the maximum sequence length\n",
    "\n",
    "# sequence_lengths = [len(features) for features in X]\n",
    "\n",
    "# max_length = max(sequence_lengths)\n",
    "\n",
    "# print(f'Maximum sequence length: {max_length}')\n",
    "\n",
    "\n",
    "\n",
    "# # Pad sequences\n",
    "\n",
    "# def pad_sequence(features, max_length):\n",
    "\n",
    "#     if len(features) < max_length:\n",
    "\n",
    "#         pad_width = max_length - len(features)\n",
    "\n",
    "#         return np.pad(features, ((0, pad_width), (0, 0)), mode='constant')\n",
    "\n",
    "#     else:\n",
    "\n",
    "#         return features[:max_length, :]\n",
    "\n",
    "\n",
    "\n",
    "# X_padded = [pad_sequence(features, max_length) for features in X]\n",
    "\n",
    "# X_padded = np.array(X_padded)\n",
    "\n",
    "# y = np.array(y)\n",
    "\n",
    "# print(f'Shape of X_padded: {X_padded.shape}')\n"
   ]
  },
  {
   "cell_type": "code",
   "execution_count": 8,
   "metadata": {
    "execution": {
     "iopub.execute_input": "2024-12-12T19:10:05.870542Z",
     "iopub.status.busy": "2024-12-12T19:10:05.870250Z",
     "iopub.status.idle": "2024-12-12T19:10:05.884231Z",
     "shell.execute_reply": "2024-12-12T19:10:05.883602Z",
     "shell.execute_reply.started": "2024-12-12T19:10:05.870510Z"
    },
    "executionInfo": {
     "elapsed": 14,
     "status": "ok",
     "timestamp": 1733962453989,
     "user": {
      "displayName": "Soham Vijaykumar Faldu",
      "userId": "13996138885784315256"
     },
     "user_tz": 300
    },
    "id": "O51-CDf_iYfZ",
    "trusted": true
   },
   "outputs": [],
   "source": [
    "# # Reshape for normalization\n",
    "\n",
    "# num_samples, time_steps, num_features = X_padded.shape\n",
    "\n",
    "# X_reshaped = X_padded.reshape(-1, num_features)\n",
    "\n",
    "\n",
    "\n",
    "# # Standardize features\n",
    "\n",
    "# scaler = StandardScaler()\n",
    "\n",
    "# X_normalized = scaler.fit_transform(X_reshaped)\n",
    "\n",
    "\n",
    "\n",
    "# # Reshape back to original shape\n",
    "\n",
    "# X_normalized = X_normalized.reshape(num_samples, time_steps, num_features)\n"
   ]
  },
  {
   "cell_type": "code",
   "execution_count": 9,
   "metadata": {
    "execution": {
     "iopub.execute_input": "2024-12-12T19:10:05.885391Z",
     "iopub.status.busy": "2024-12-12T19:10:05.885137Z",
     "iopub.status.idle": "2024-12-12T19:10:05.896036Z",
     "shell.execute_reply": "2024-12-12T19:10:05.895385Z",
     "shell.execute_reply.started": "2024-12-12T19:10:05.885364Z"
    },
    "executionInfo": {
     "elapsed": 13,
     "status": "ok",
     "timestamp": 1733962453989,
     "user": {
      "displayName": "Soham Vijaykumar Faldu",
      "userId": "13996138885784315256"
     },
     "user_tz": 300
    },
    "id": "L3O0W2UBiYfa",
    "trusted": true
   },
   "outputs": [],
   "source": [
    "# # Compute class weights\n",
    "\n",
    "# class_weights = compute_class_weight('balanced', classes=np.unique(y), y=y)\n",
    "\n",
    "# class_weight_dict = dict(enumerate(class_weights))\n",
    "\n",
    "# print(f'Class weights: {class_weight_dict}')\n"
   ]
  },
  {
   "cell_type": "code",
   "execution_count": 10,
   "metadata": {
    "execution": {
     "iopub.execute_input": "2024-12-12T19:10:05.898735Z",
     "iopub.status.busy": "2024-12-12T19:10:05.898471Z",
     "iopub.status.idle": "2024-12-12T19:10:05.911325Z",
     "shell.execute_reply": "2024-12-12T19:10:05.910669Z",
     "shell.execute_reply.started": "2024-12-12T19:10:05.898711Z"
    },
    "executionInfo": {
     "elapsed": 13,
     "status": "ok",
     "timestamp": 1733962453989,
     "user": {
      "displayName": "Soham Vijaykumar Faldu",
      "userId": "13996138885784315256"
     },
     "user_tz": 300
    },
    "id": "L0YLH9N7iYfa",
    "trusted": true
   },
   "outputs": [],
   "source": [
    "# # One-hot encode labels\n",
    "\n",
    "# num_classes = len(emotions)\n",
    "\n",
    "# y_encoded = to_categorical(y, num_classes=num_classes)\n",
    "\n",
    "\n",
    "\n",
    "# # Split into training and testing sets\n",
    "\n",
    "# X_train, X_test, y_train, y_test = train_test_split(\n",
    "\n",
    "#     X_normalized, y_encoded, test_size=0.2, random_state=42, stratify=y)\n",
    "\n",
    "\n",
    "\n",
    "# print(f'Training samples: {X_train.shape[0]}, Testing samples: {X_test.shape[0]}')\n"
   ]
  },
  {
   "cell_type": "code",
   "execution_count": 11,
   "metadata": {
    "colab": {
     "base_uri": "https://localhost:8080/"
    },
    "execution": {
     "iopub.execute_input": "2024-12-12T19:10:05.912484Z",
     "iopub.status.busy": "2024-12-12T19:10:05.912228Z",
     "iopub.status.idle": "2024-12-12T19:10:06.881272Z",
     "shell.execute_reply": "2024-12-12T19:10:06.880390Z",
     "shell.execute_reply.started": "2024-12-12T19:10:05.912460Z"
    },
    "executionInfo": {
     "elapsed": 75410,
     "status": "ok",
     "timestamp": 1733962529387,
     "user": {
      "displayName": "Soham Vijaykumar Faldu",
      "userId": "13996138885784315256"
     },
     "user_tz": 300
    },
    "id": "ILE3TBlNMYCR",
    "outputId": "81636a03-49b8-4c03-88c1-7f79bc058ac1",
    "trusted": true
   },
   "outputs": [
    {
     "name": "stdout",
     "output_type": "stream",
     "text": [
      "Shape of X_train: (8816, 911, 39)\n",
      "Shape of X_test: (2204, 911, 39)\n",
      "Shape of y_train: (8816, 4)\n",
      "Shape of y_test: (2204, 4)\n"
     ]
    }
   ],
   "source": [
    "# prompt: load X and y csv from google drive\n",
    "\n",
    "\n",
    "\n",
    "import pandas as pd\n",
    "\n",
    "# from google.colab import drive\n",
    "\n",
    "\n",
    "\n",
    "# drive.mount('/content/drive')\n",
    "\n",
    "# X_train = np.load('/content/drive/MyDrive/Deep Learning Project/X_train.npy')\n",
    "\n",
    "# X_test = np.load('/content/drive/MyDrive/Deep Learning Project/X_test.npy')\n",
    "\n",
    "# y_train = np.load('/content/drive/MyDrive/Deep Learning Project/y_train.npy')\n",
    "\n",
    "# y_test = np.load('/content/drive/MyDrive/Deep Learning Project/y_test.npy')\n",
    "\n",
    "# num_classes = 4\n",
    "\n",
    "# class_weight = np.load('/content/drive/MyDrive/Deep Learning Project/class_weights.npy')\n",
    "\n",
    "# class_weight_dict = dict(enumerate(class_weight))\n",
    "\n",
    "\n",
    "\n",
    "# print(f'Shape of X_train: {X_train.shape}')\n",
    "\n",
    "# print(f'Shape of X_test: {X_test.shape}')\n",
    "\n",
    "# print(f'Shape of y_train: {y_train.shape}')\n",
    "\n",
    "# print(f'Shape of y_test: {y_test.shape}')\n",
    "\n",
    "input_dir = '/kaggle/input/lnn-dl'  # Replace with the correct path to your .npy files\n",
    "\n",
    "X_train = np.load(os.path.join(input_dir, 'X_train.npy'))\n",
    "X_test = np.load(os.path.join(input_dir, 'X_test.npy'))\n",
    "y_train = np.load(os.path.join(input_dir, 'y_train.npy'))\n",
    "y_test = np.load(os.path.join(input_dir, 'y_test.npy'))\n",
    "class_weight = np.load(os.path.join(input_dir, 'class_weights.npy'))\n",
    "\n",
    "# Convert class weights to a dictionary\n",
    "num_classes = 4\n",
    "class_weight_dict = dict(enumerate(class_weight))\n",
    "\n",
    "# Print shapes of the loaded arrays\n",
    "print(f'Shape of X_train: {X_train.shape}')\n",
    "print(f'Shape of X_test: {X_test.shape}')\n",
    "print(f'Shape of y_train: {y_train.shape}')\n",
    "print(f'Shape of y_test: {y_test.shape}')\n",
    "\n",
    "# print(lnn_dl_path)"
   ]
  },
  {
   "cell_type": "code",
   "execution_count": 12,
   "metadata": {
    "execution": {
     "iopub.execute_input": "2024-12-12T19:10:06.882632Z",
     "iopub.status.busy": "2024-12-12T19:10:06.882321Z",
     "iopub.status.idle": "2024-12-12T19:10:06.887054Z",
     "shell.execute_reply": "2024-12-12T19:10:06.886209Z",
     "shell.execute_reply.started": "2024-12-12T19:10:06.882605Z"
    },
    "executionInfo": {
     "elapsed": 34,
     "status": "ok",
     "timestamp": 1733962529388,
     "user": {
      "displayName": "Soham Vijaykumar Faldu",
      "userId": "13996138885784315256"
     },
     "user_tz": 300
    },
    "id": "b4XijnxZIY0B",
    "trusted": true
   },
   "outputs": [],
   "source": [
    "def clipped_relu(x):\n",
    "\n",
    "    return tf.keras.activations.relu(x, max_value=20.0)\n",
    "\n",
    "\n",
    "\n",
    "def clipped_sigmoid(x):\n",
    "\n",
    "    return tf.keras.activations.sigmoid(x) * 10.0"
   ]
  },
  {
   "cell_type": "code",
   "execution_count": 13,
   "metadata": {
    "execution": {
     "iopub.execute_input": "2024-12-12T19:10:06.888637Z",
     "iopub.status.busy": "2024-12-12T19:10:06.888266Z",
     "iopub.status.idle": "2024-12-12T19:10:06.902694Z",
     "shell.execute_reply": "2024-12-12T19:10:06.901776Z",
     "shell.execute_reply.started": "2024-12-12T19:10:06.888599Z"
    },
    "executionInfo": {
     "elapsed": 32,
     "status": "ok",
     "timestamp": 1733962529388,
     "user": {
      "displayName": "Soham Vijaykumar Faldu",
      "userId": "13996138885784315256"
     },
     "user_tz": 300
    },
    "id": "XITtS03iIdCT",
    "trusted": true
   },
   "outputs": [],
   "source": [
    "import tensorflow.keras as keras\n",
    "@keras.utils.register_keras_serializable(package=\"Custom\", name=\"LTCCell\")\n",
    "class LTCCell(Layer):\n",
    "\n",
    "    def __init__(self, units, ode_unfolds=6, l2_reg=0.001, **kwargs):\n",
    "\n",
    "        super(LTCCell, self).__init__(**kwargs)\n",
    "\n",
    "        self.units = units\n",
    "\n",
    "        self.ode_unfolds = ode_unfolds\n",
    "\n",
    "        self.state_size = units\n",
    "\n",
    "        self.l2_reg = l2_reg  # L2 regularization parameter\n",
    "\n",
    "\n",
    "\n",
    "    def build(self, input_shape):\n",
    "\n",
    "        self.input_dim = input_shape[-1]\n",
    "\n",
    "\n",
    "\n",
    "        # Trainable parameters with L2 regularization\n",
    "\n",
    "        self.W = self.add_weight(\n",
    "\n",
    "            shape=(self.input_dim + self.units, self.units),\n",
    "\n",
    "            initializer='glorot_uniform',\n",
    "\n",
    "            regularizer=l2(self.l2_reg),\n",
    "\n",
    "            name='W'\n",
    "\n",
    "        )\n",
    "\n",
    "        self.bias = self.add_weight(\n",
    "\n",
    "            shape=(self.units,),\n",
    "\n",
    "            initializer='zeros',\n",
    "\n",
    "            name='bias'\n",
    "\n",
    "        )\n",
    "\n",
    "        self.tau = self.add_weight(\n",
    "\n",
    "            shape=(self.units,),\n",
    "\n",
    "            initializer='ones',\n",
    "\n",
    "            name='tau'\n",
    "\n",
    "        )\n",
    "\n",
    "\n",
    "\n",
    "        # Additional parameters for the LTC model\n",
    "\n",
    "        self.C = self.add_weight(\n",
    "\n",
    "            shape=(self.units,),\n",
    "\n",
    "            initializer='ones',\n",
    "\n",
    "            name='C'\n",
    "\n",
    "        )\n",
    "\n",
    "        self.G = self.add_weight(\n",
    "\n",
    "            shape=(self.units,),\n",
    "\n",
    "            initializer='ones',\n",
    "\n",
    "            name='G'\n",
    "\n",
    "        )\n",
    "\n",
    "\n",
    "\n",
    "        super(LTCCell, self).build(input_shape)\n",
    "\n",
    "\n",
    "\n",
    "    def call(self, inputs, states):\n",
    "\n",
    "        prev_state = states[0]\n",
    "\n",
    "        concatenated = tf.concat([inputs, prev_state], axis=1)\n",
    "\n",
    "        dt = 0.01  # Time step\n",
    "\n",
    "\n",
    "\n",
    "        for _ in range(self.ode_unfolds):\n",
    "\n",
    "            dh = (-prev_state + tf.nn.tanh(tf.matmul(concatenated, self.W) + self.bias)) / tf.nn.softplus(self.tau)\n",
    "\n",
    "            prev_state += dt * dh\n",
    "\n",
    "\n",
    "\n",
    "        # Apply custom activation functions\n",
    "\n",
    "        prev_state = clipped_relu(prev_state)\n",
    "\n",
    "        prev_state = prev_state * clipped_sigmoid(self.C)\n",
    "\n",
    "        prev_state = prev_state / clipped_sigmoid(self.G)\n",
    "\n",
    "\n",
    "\n",
    "        return prev_state, [prev_state]\n",
    "    \n",
    "    def get_config(self):\n",
    "        \n",
    "        config = super(LTCCell, self).get_config()\n",
    "        \n",
    "        config.update({\"units\": self.units})\n",
    "        \n",
    "        return config"
   ]
  },
  {
   "cell_type": "code",
   "execution_count": 14,
   "metadata": {
    "execution": {
     "iopub.execute_input": "2024-12-12T19:10:06.903893Z",
     "iopub.status.busy": "2024-12-12T19:10:06.903639Z",
     "iopub.status.idle": "2024-12-12T19:10:06.916758Z",
     "shell.execute_reply": "2024-12-12T19:10:06.916073Z",
     "shell.execute_reply.started": "2024-12-12T19:10:06.903868Z"
    },
    "executionInfo": {
     "elapsed": 31,
     "status": "ok",
     "timestamp": 1733962529388,
     "user": {
      "displayName": "Soham Vijaykumar Faldu",
      "userId": "13996138885784315256"
     },
     "user_tz": 300
    },
    "id": "gAa5ynzvIkfa",
    "trusted": true
   },
   "outputs": [],
   "source": [
    "def build_lnn_model(input_shape, units, num_classes, l2_reg=0.001):\n",
    "\n",
    "    inputs = Input(shape=input_shape)\n",
    "\n",
    "    ltc_cell = LTCCell(units=units, ode_unfolds=6, l2_reg=l2_reg)\n",
    "\n",
    "    rnn_layer = RNN(ltc_cell, return_sequences=False)\n",
    "\n",
    "    x = rnn_layer(inputs)\n",
    "\n",
    "    outputs = Dense(num_classes, activation='softmax', kernel_regularizer=l2(l2_reg))(x)\n",
    "\n",
    "    model = Model(inputs=inputs, outputs=outputs)\n",
    "\n",
    "    return model"
   ]
  },
  {
   "cell_type": "code",
   "execution_count": 15,
   "metadata": {
    "execution": {
     "iopub.execute_input": "2024-12-12T19:10:06.917898Z",
     "iopub.status.busy": "2024-12-12T19:10:06.917648Z",
     "iopub.status.idle": "2024-12-12T19:10:06.929487Z",
     "shell.execute_reply": "2024-12-12T19:10:06.928670Z",
     "shell.execute_reply.started": "2024-12-12T19:10:06.917874Z"
    },
    "executionInfo": {
     "elapsed": 30,
     "status": "ok",
     "timestamp": 1733962529388,
     "user": {
      "displayName": "Soham Vijaykumar Faldu",
      "userId": "13996138885784315256"
     },
     "user_tz": 300
    },
    "id": "BGr1t92rIm7U",
    "trusted": true
   },
   "outputs": [],
   "source": [
    "input_shape = (X_train.shape[1], X_train.shape[2])  # (time_steps, features)\n",
    "\n",
    "units = 8\n",
    "\n",
    "num_classes = 4  # Number of emotion classes"
   ]
  },
  {
   "cell_type": "code",
   "execution_count": 18,
   "metadata": {
    "execution": {
     "iopub.execute_input": "2024-12-12T19:10:06.951649Z",
     "iopub.status.busy": "2024-12-12T19:10:06.951430Z",
     "iopub.status.idle": "2024-12-12T19:10:07.520910Z",
     "shell.execute_reply": "2024-12-12T19:10:07.520170Z",
     "shell.execute_reply.started": "2024-12-12T19:10:06.951627Z"
    },
    "executionInfo": {
     "elapsed": 3565,
     "status": "ok",
     "timestamp": 1733962532927,
     "user": {
      "displayName": "Soham Vijaykumar Faldu",
      "userId": "13996138885784315256"
     },
     "user_tz": 300
    },
    "id": "usTQzbkIiYfa",
    "trusted": true
   },
   "outputs": [],
   "source": [
    "model = build_lnn_model(input_shape, units, num_classes, l2_reg=0.0005)\n",
    "\n",
    "\n",
    "\n",
    "optimizer = Adam(learning_rate=0.0001)\n",
    "\n",
    "model.compile(optimizer=optimizer,\n",
    "\n",
    "              loss='categorical_crossentropy',\n",
    "\n",
    "              metrics=['accuracy'])"
   ]
  },
  {
   "cell_type": "code",
   "execution_count": 19,
   "metadata": {
    "colab": {
     "base_uri": "https://localhost:8080/",
     "height": 234
    },
    "execution": {
     "iopub.execute_input": "2024-12-12T19:10:07.522243Z",
     "iopub.status.busy": "2024-12-12T19:10:07.521966Z",
     "iopub.status.idle": "2024-12-12T19:10:07.538085Z",
     "shell.execute_reply": "2024-12-12T19:10:07.537176Z",
     "shell.execute_reply.started": "2024-12-12T19:10:07.522217Z"
    },
    "executionInfo": {
     "elapsed": 32,
     "status": "ok",
     "timestamp": 1733962532934,
     "user": {
      "displayName": "Soham Vijaykumar Faldu",
      "userId": "13996138885784315256"
     },
     "user_tz": 300
    },
    "id": "-LD-XtHqiYfa",
    "outputId": "d6b75da8-05dd-4ccb-b883-4371a979c577",
    "trusted": true
   },
   "outputs": [
    {
     "data": {
      "text/html": [
       "<pre style=\"white-space:pre;overflow-x:auto;line-height:normal;font-family:Menlo,'DejaVu Sans Mono',consolas,'Courier New',monospace\"><span style=\"font-weight: bold\">Model: \"functional_1\"</span>\n",
       "</pre>\n"
      ],
      "text/plain": [
       "\u001b[1mModel: \"functional_1\"\u001b[0m\n"
      ]
     },
     "metadata": {},
     "output_type": "display_data"
    },
    {
     "data": {
      "text/html": [
       "<pre style=\"white-space:pre;overflow-x:auto;line-height:normal;font-family:Menlo,'DejaVu Sans Mono',consolas,'Courier New',monospace\">┏━━━━━━━━━━━━━━━━━━━━━━━━━━━━━━━━━┳━━━━━━━━━━━━━━━━━━━━━━━━┳━━━━━━━━━━━━━━━┓\n",
       "┃<span style=\"font-weight: bold\"> Layer (type)                    </span>┃<span style=\"font-weight: bold\"> Output Shape           </span>┃<span style=\"font-weight: bold\">       Param # </span>┃\n",
       "┡━━━━━━━━━━━━━━━━━━━━━━━━━━━━━━━━━╇━━━━━━━━━━━━━━━━━━━━━━━━╇━━━━━━━━━━━━━━━┩\n",
       "│ input_layer (<span style=\"color: #0087ff; text-decoration-color: #0087ff\">InputLayer</span>)        │ (<span style=\"color: #00d7ff; text-decoration-color: #00d7ff\">None</span>, <span style=\"color: #00af00; text-decoration-color: #00af00\">911</span>, <span style=\"color: #00af00; text-decoration-color: #00af00\">39</span>)        │             <span style=\"color: #00af00; text-decoration-color: #00af00\">0</span> │\n",
       "├─────────────────────────────────┼────────────────────────┼───────────────┤\n",
       "│ rnn (<span style=\"color: #0087ff; text-decoration-color: #0087ff\">RNN</span>)                       │ (<span style=\"color: #00d7ff; text-decoration-color: #00d7ff\">None</span>, <span style=\"color: #00af00; text-decoration-color: #00af00\">12</span>)             │           <span style=\"color: #00af00; text-decoration-color: #00af00\">660</span> │\n",
       "├─────────────────────────────────┼────────────────────────┼───────────────┤\n",
       "│ dense (<span style=\"color: #0087ff; text-decoration-color: #0087ff\">Dense</span>)                   │ (<span style=\"color: #00d7ff; text-decoration-color: #00d7ff\">None</span>, <span style=\"color: #00af00; text-decoration-color: #00af00\">4</span>)              │            <span style=\"color: #00af00; text-decoration-color: #00af00\">52</span> │\n",
       "└─────────────────────────────────┴────────────────────────┴───────────────┘\n",
       "</pre>\n"
      ],
      "text/plain": [
       "┏━━━━━━━━━━━━━━━━━━━━━━━━━━━━━━━━━┳━━━━━━━━━━━━━━━━━━━━━━━━┳━━━━━━━━━━━━━━━┓\n",
       "┃\u001b[1m \u001b[0m\u001b[1mLayer (type)                   \u001b[0m\u001b[1m \u001b[0m┃\u001b[1m \u001b[0m\u001b[1mOutput Shape          \u001b[0m\u001b[1m \u001b[0m┃\u001b[1m \u001b[0m\u001b[1m      Param #\u001b[0m\u001b[1m \u001b[0m┃\n",
       "┡━━━━━━━━━━━━━━━━━━━━━━━━━━━━━━━━━╇━━━━━━━━━━━━━━━━━━━━━━━━╇━━━━━━━━━━━━━━━┩\n",
       "│ input_layer (\u001b[38;5;33mInputLayer\u001b[0m)        │ (\u001b[38;5;45mNone\u001b[0m, \u001b[38;5;34m911\u001b[0m, \u001b[38;5;34m39\u001b[0m)        │             \u001b[38;5;34m0\u001b[0m │\n",
       "├─────────────────────────────────┼────────────────────────┼───────────────┤\n",
       "│ rnn (\u001b[38;5;33mRNN\u001b[0m)                       │ (\u001b[38;5;45mNone\u001b[0m, \u001b[38;5;34m12\u001b[0m)             │           \u001b[38;5;34m660\u001b[0m │\n",
       "├─────────────────────────────────┼────────────────────────┼───────────────┤\n",
       "│ dense (\u001b[38;5;33mDense\u001b[0m)                   │ (\u001b[38;5;45mNone\u001b[0m, \u001b[38;5;34m4\u001b[0m)              │            \u001b[38;5;34m52\u001b[0m │\n",
       "└─────────────────────────────────┴────────────────────────┴───────────────┘\n"
      ]
     },
     "metadata": {},
     "output_type": "display_data"
    },
    {
     "data": {
      "text/html": [
       "<pre style=\"white-space:pre;overflow-x:auto;line-height:normal;font-family:Menlo,'DejaVu Sans Mono',consolas,'Courier New',monospace\"><span style=\"font-weight: bold\"> Total params: </span><span style=\"color: #00af00; text-decoration-color: #00af00\">712</span> (2.78 KB)\n",
       "</pre>\n"
      ],
      "text/plain": [
       "\u001b[1m Total params: \u001b[0m\u001b[38;5;34m712\u001b[0m (2.78 KB)\n"
      ]
     },
     "metadata": {},
     "output_type": "display_data"
    },
    {
     "data": {
      "text/html": [
       "<pre style=\"white-space:pre;overflow-x:auto;line-height:normal;font-family:Menlo,'DejaVu Sans Mono',consolas,'Courier New',monospace\"><span style=\"font-weight: bold\"> Trainable params: </span><span style=\"color: #00af00; text-decoration-color: #00af00\">712</span> (2.78 KB)\n",
       "</pre>\n"
      ],
      "text/plain": [
       "\u001b[1m Trainable params: \u001b[0m\u001b[38;5;34m712\u001b[0m (2.78 KB)\n"
      ]
     },
     "metadata": {},
     "output_type": "display_data"
    },
    {
     "data": {
      "text/html": [
       "<pre style=\"white-space:pre;overflow-x:auto;line-height:normal;font-family:Menlo,'DejaVu Sans Mono',consolas,'Courier New',monospace\"><span style=\"font-weight: bold\"> Non-trainable params: </span><span style=\"color: #00af00; text-decoration-color: #00af00\">0</span> (0.00 B)\n",
       "</pre>\n"
      ],
      "text/plain": [
       "\u001b[1m Non-trainable params: \u001b[0m\u001b[38;5;34m0\u001b[0m (0.00 B)\n"
      ]
     },
     "metadata": {},
     "output_type": "display_data"
    }
   ],
   "source": [
    "model.summary()\n"
   ]
  },
  {
   "cell_type": "code",
   "execution_count": 20,
   "metadata": {
    "execution": {
     "iopub.execute_input": "2024-12-12T19:10:07.539300Z",
     "iopub.status.busy": "2024-12-12T19:10:07.539012Z",
     "iopub.status.idle": "2024-12-12T19:10:07.544270Z",
     "shell.execute_reply": "2024-12-12T19:10:07.543643Z",
     "shell.execute_reply.started": "2024-12-12T19:10:07.539275Z"
    },
    "executionInfo": {
     "elapsed": 25,
     "status": "ok",
     "timestamp": 1733962532935,
     "user": {
      "displayName": "Soham Vijaykumar Faldu",
      "userId": "13996138885784315256"
     },
     "user_tz": 300
    },
    "id": "6sveABtwiYfb",
    "trusted": true
   },
   "outputs": [],
   "source": [
    "from tensorflow.keras.callbacks import EarlyStopping, ReduceLROnPlateau\n",
    "\n",
    "\n",
    "\n",
    "early_stopping = EarlyStopping(monitor='val_loss', patience=5, restore_best_weights=True)\n",
    "\n",
    "lr_reduction = ReduceLROnPlateau(monitor='val_loss', factor=0.5, patience=2)\n"
   ]
  },
  {
   "cell_type": "code",
   "execution_count": 21,
   "metadata": {
    "colab": {
     "base_uri": "https://localhost:8080/",
     "height": 803
    },
    "execution": {
     "iopub.execute_input": "2024-12-12T19:10:07.545976Z",
     "iopub.status.busy": "2024-12-12T19:10:07.545328Z",
     "iopub.status.idle": "2024-12-12T19:24:18.052667Z",
     "shell.execute_reply": "2024-12-12T19:24:18.051867Z",
     "shell.execute_reply.started": "2024-12-12T19:10:07.545937Z"
    },
    "executionInfo": {
     "elapsed": 523646,
     "status": "error",
     "timestamp": 1733963056558,
     "user": {
      "displayName": "Soham Vijaykumar Faldu",
      "userId": "13996138885784315256"
     },
     "user_tz": 300
    },
    "id": "1MmdQpQ0iYfb",
    "outputId": "0b07021a-b1f7-43ce-a7d8-ad5f221fc672",
    "trusted": true
   },
   "outputs": [
    {
     "name": "stdout",
     "output_type": "stream",
     "text": [
      "Epoch 1/50\n"
     ]
    },
    {
     "name": "stderr",
     "output_type": "stream",
     "text": [
      "WARNING: All log messages before absl::InitializeLog() is called are written to STDERR\n",
      "I0000 00:00:1734030613.905738    3819 service.cc:145] XLA service 0x7911b000b0c0 initialized for platform CUDA (this does not guarantee that XLA will be used). Devices:\n",
      "I0000 00:00:1734030613.905792    3819 service.cc:153]   StreamExecutor device (0): Tesla P100-PCIE-16GB, Compute Capability 6.0\n"
     ]
    },
    {
     "name": "stdout",
     "output_type": "stream",
     "text": [
      "\u001b[1m  1/138\u001b[0m \u001b[37m━━━━━━━━━━━━━━━━━━━━\u001b[0m \u001b[1m10:37\u001b[0m 5s/step - accuracy: 0.1406 - loss: 1.4063"
     ]
    },
    {
     "name": "stderr",
     "output_type": "stream",
     "text": [
      "I0000 00:00:1734030615.583317    3819 device_compiler.h:188] Compiled cluster using XLA!  This line is logged at most once for the lifetime of the process.\n"
     ]
    },
    {
     "name": "stdout",
     "output_type": "stream",
     "text": [
      "\u001b[1m138/138\u001b[0m \u001b[32m━━━━━━━━━━━━━━━━━━━━\u001b[0m\u001b[37m\u001b[0m \u001b[1m25s\u001b[0m 150ms/step - accuracy: 0.3116 - loss: 1.3807 - val_accuracy: 0.3870 - val_loss: 1.3362\n",
      "Epoch 2/50\n",
      "\u001b[1m138/138\u001b[0m \u001b[32m━━━━━━━━━━━━━━━━━━━━\u001b[0m\u001b[37m\u001b[0m \u001b[1m17s\u001b[0m 123ms/step - accuracy: 0.3835 - loss: 1.3353 - val_accuracy: 0.3870 - val_loss: 1.3317\n",
      "Epoch 3/50\n",
      "\u001b[1m138/138\u001b[0m \u001b[32m━━━━━━━━━━━━━━━━━━━━\u001b[0m\u001b[37m\u001b[0m \u001b[1m17s\u001b[0m 123ms/step - accuracy: 0.3918 - loss: 1.3279 - val_accuracy: 0.3870 - val_loss: 1.3300\n",
      "Epoch 4/50\n",
      "\u001b[1m138/138\u001b[0m \u001b[32m━━━━━━━━━━━━━━━━━━━━\u001b[0m\u001b[37m\u001b[0m \u001b[1m17s\u001b[0m 123ms/step - accuracy: 0.3983 - loss: 1.3242 - val_accuracy: 0.3870 - val_loss: 1.3292\n",
      "Epoch 5/50\n",
      "\u001b[1m138/138\u001b[0m \u001b[32m━━━━━━━━━━━━━━━━━━━━\u001b[0m\u001b[37m\u001b[0m \u001b[1m17s\u001b[0m 123ms/step - accuracy: 0.4024 - loss: 1.3255 - val_accuracy: 0.3870 - val_loss: 1.3295\n",
      "Epoch 6/50\n",
      "\u001b[1m138/138\u001b[0m \u001b[32m━━━━━━━━━━━━━━━━━━━━\u001b[0m\u001b[37m\u001b[0m \u001b[1m17s\u001b[0m 124ms/step - accuracy: 0.3872 - loss: 1.3305 - val_accuracy: 0.3907 - val_loss: 1.3254\n",
      "Epoch 7/50\n",
      "\u001b[1m138/138\u001b[0m \u001b[32m━━━━━━━━━━━━━━━━━━━━\u001b[0m\u001b[37m\u001b[0m \u001b[1m17s\u001b[0m 123ms/step - accuracy: 0.4370 - loss: 1.2785 - val_accuracy: 0.4932 - val_loss: 1.1374\n",
      "Epoch 8/50\n",
      "\u001b[1m138/138\u001b[0m \u001b[32m━━━━━━━━━━━━━━━━━━━━\u001b[0m\u001b[37m\u001b[0m \u001b[1m17s\u001b[0m 123ms/step - accuracy: 0.5020 - loss: 1.1413 - val_accuracy: 0.5082 - val_loss: 1.1188\n",
      "Epoch 9/50\n",
      "\u001b[1m138/138\u001b[0m \u001b[32m━━━━━━━━━━━━━━━━━━━━\u001b[0m\u001b[37m\u001b[0m \u001b[1m17s\u001b[0m 124ms/step - accuracy: 0.5148 - loss: 1.1204 - val_accuracy: 0.5349 - val_loss: 1.0944\n",
      "Epoch 10/50\n",
      "\u001b[1m138/138\u001b[0m \u001b[32m━━━━━━━━━━━━━━━━━━━━\u001b[0m\u001b[37m\u001b[0m \u001b[1m17s\u001b[0m 123ms/step - accuracy: 0.5514 - loss: 1.0853 - val_accuracy: 0.4891 - val_loss: 1.1349\n",
      "Epoch 11/50\n",
      "\u001b[1m138/138\u001b[0m \u001b[32m━━━━━━━━━━━━━━━━━━━━\u001b[0m\u001b[37m\u001b[0m \u001b[1m17s\u001b[0m 123ms/step - accuracy: 0.5510 - loss: 1.0747 - val_accuracy: 0.5672 - val_loss: 1.0635\n",
      "Epoch 12/50\n",
      "\u001b[1m138/138\u001b[0m \u001b[32m━━━━━━━━━━━━━━━━━━━━\u001b[0m\u001b[37m\u001b[0m \u001b[1m17s\u001b[0m 123ms/step - accuracy: 0.5655 - loss: 1.0688 - val_accuracy: 0.5399 - val_loss: 1.1187\n",
      "Epoch 13/50\n",
      "\u001b[1m138/138\u001b[0m \u001b[32m━━━━━━━━━━━━━━━━━━━━\u001b[0m\u001b[37m\u001b[0m \u001b[1m17s\u001b[0m 123ms/step - accuracy: 0.5581 - loss: 1.0607 - val_accuracy: 0.5740 - val_loss: 1.0523\n",
      "Epoch 14/50\n",
      "\u001b[1m138/138\u001b[0m \u001b[32m━━━━━━━━━━━━━━━━━━━━\u001b[0m\u001b[37m\u001b[0m \u001b[1m17s\u001b[0m 123ms/step - accuracy: 0.5816 - loss: 1.0334 - val_accuracy: 0.5921 - val_loss: 1.0406\n",
      "Epoch 15/50\n",
      "\u001b[1m138/138\u001b[0m \u001b[32m━━━━━━━━━━━━━━━━━━━━\u001b[0m\u001b[37m\u001b[0m \u001b[1m17s\u001b[0m 123ms/step - accuracy: 0.5935 - loss: 1.0251 - val_accuracy: 0.5785 - val_loss: 1.0569\n",
      "Epoch 16/50\n",
      "\u001b[1m138/138\u001b[0m \u001b[32m━━━━━━━━━━━━━━━━━━━━\u001b[0m\u001b[37m\u001b[0m \u001b[1m17s\u001b[0m 123ms/step - accuracy: 0.5870 - loss: 1.0163 - val_accuracy: 0.5848 - val_loss: 1.0368\n",
      "Epoch 17/50\n",
      "\u001b[1m138/138\u001b[0m \u001b[32m━━━━━━━━━━━━━━━━━━━━\u001b[0m\u001b[37m\u001b[0m \u001b[1m17s\u001b[0m 124ms/step - accuracy: 0.5937 - loss: 1.0122 - val_accuracy: 0.6039 - val_loss: 1.0091\n",
      "Epoch 18/50\n",
      "\u001b[1m138/138\u001b[0m \u001b[32m━━━━━━━━━━━━━━━━━━━━\u001b[0m\u001b[37m\u001b[0m \u001b[1m17s\u001b[0m 123ms/step - accuracy: 0.6003 - loss: 1.0025 - val_accuracy: 0.5440 - val_loss: 1.0778\n",
      "Epoch 19/50\n",
      "\u001b[1m138/138\u001b[0m \u001b[32m━━━━━━━━━━━━━━━━━━━━\u001b[0m\u001b[37m\u001b[0m \u001b[1m17s\u001b[0m 123ms/step - accuracy: 0.5947 - loss: 1.0133 - val_accuracy: 0.5917 - val_loss: 1.0279\n",
      "Epoch 20/50\n",
      "\u001b[1m138/138\u001b[0m \u001b[32m━━━━━━━━━━━━━━━━━━━━\u001b[0m\u001b[37m\u001b[0m \u001b[1m17s\u001b[0m 123ms/step - accuracy: 0.6067 - loss: 0.9913 - val_accuracy: 0.5944 - val_loss: 1.0124\n",
      "Epoch 21/50\n",
      "\u001b[1m138/138\u001b[0m \u001b[32m━━━━━━━━━━━━━━━━━━━━\u001b[0m\u001b[37m\u001b[0m \u001b[1m17s\u001b[0m 123ms/step - accuracy: 0.6085 - loss: 0.9815 - val_accuracy: 0.6053 - val_loss: 1.0081\n",
      "Epoch 22/50\n",
      "\u001b[1m138/138\u001b[0m \u001b[32m━━━━━━━━━━━━━━━━━━━━\u001b[0m\u001b[37m\u001b[0m \u001b[1m17s\u001b[0m 123ms/step - accuracy: 0.6201 - loss: 0.9715 - val_accuracy: 0.6053 - val_loss: 1.0048\n",
      "Epoch 23/50\n",
      "\u001b[1m138/138\u001b[0m \u001b[32m━━━━━━━━━━━━━━━━━━━━\u001b[0m\u001b[37m\u001b[0m \u001b[1m17s\u001b[0m 124ms/step - accuracy: 0.6261 - loss: 0.9494 - val_accuracy: 0.5989 - val_loss: 1.0134\n",
      "Epoch 24/50\n",
      "\u001b[1m138/138\u001b[0m \u001b[32m━━━━━━━━━━━━━━━━━━━━\u001b[0m\u001b[37m\u001b[0m \u001b[1m17s\u001b[0m 123ms/step - accuracy: 0.6093 - loss: 0.9873 - val_accuracy: 0.5980 - val_loss: 1.0082\n",
      "Epoch 25/50\n",
      "\u001b[1m138/138\u001b[0m \u001b[32m━━━━━━━━━━━━━━━━━━━━\u001b[0m\u001b[37m\u001b[0m \u001b[1m17s\u001b[0m 123ms/step - accuracy: 0.6116 - loss: 0.9819 - val_accuracy: 0.5717 - val_loss: 1.0368\n",
      "Epoch 26/50\n",
      "\u001b[1m138/138\u001b[0m \u001b[32m━━━━━━━━━━━━━━━━━━━━\u001b[0m\u001b[37m\u001b[0m \u001b[1m17s\u001b[0m 123ms/step - accuracy: 0.6123 - loss: 0.9750 - val_accuracy: 0.6216 - val_loss: 0.9889\n",
      "Epoch 27/50\n",
      "\u001b[1m138/138\u001b[0m \u001b[32m━━━━━━━━━━━━━━━━━━━━\u001b[0m\u001b[37m\u001b[0m \u001b[1m17s\u001b[0m 123ms/step - accuracy: 0.6271 - loss: 0.9540 - val_accuracy: 0.6016 - val_loss: 0.9940\n",
      "Epoch 28/50\n",
      "\u001b[1m138/138\u001b[0m \u001b[32m━━━━━━━━━━━━━━━━━━━━\u001b[0m\u001b[37m\u001b[0m \u001b[1m17s\u001b[0m 124ms/step - accuracy: 0.6125 - loss: 0.9758 - val_accuracy: 0.6121 - val_loss: 0.9952\n",
      "Epoch 29/50\n",
      "\u001b[1m138/138\u001b[0m \u001b[32m━━━━━━━━━━━━━━━━━━━━\u001b[0m\u001b[37m\u001b[0m \u001b[1m17s\u001b[0m 123ms/step - accuracy: 0.6108 - loss: 0.9774 - val_accuracy: 0.6116 - val_loss: 0.9965\n",
      "Epoch 30/50\n",
      "\u001b[1m138/138\u001b[0m \u001b[32m━━━━━━━━━━━━━━━━━━━━\u001b[0m\u001b[37m\u001b[0m \u001b[1m17s\u001b[0m 123ms/step - accuracy: 0.6242 - loss: 0.9535 - val_accuracy: 0.6116 - val_loss: 0.9840\n",
      "Epoch 31/50\n",
      "\u001b[1m138/138\u001b[0m \u001b[32m━━━━━━━━━━━━━━━━━━━━\u001b[0m\u001b[37m\u001b[0m \u001b[1m17s\u001b[0m 123ms/step - accuracy: 0.6331 - loss: 0.9425 - val_accuracy: 0.6171 - val_loss: 0.9926\n",
      "Epoch 32/50\n",
      "\u001b[1m138/138\u001b[0m \u001b[32m━━━━━━━━━━━━━━━━━━━━\u001b[0m\u001b[37m\u001b[0m \u001b[1m17s\u001b[0m 124ms/step - accuracy: 0.6244 - loss: 0.9591 - val_accuracy: 0.6157 - val_loss: 0.9823\n",
      "Epoch 33/50\n",
      "\u001b[1m138/138\u001b[0m \u001b[32m━━━━━━━━━━━━━━━━━━━━\u001b[0m\u001b[37m\u001b[0m \u001b[1m17s\u001b[0m 123ms/step - accuracy: 0.6284 - loss: 0.9508 - val_accuracy: 0.6184 - val_loss: 0.9817\n",
      "Epoch 34/50\n",
      "\u001b[1m138/138\u001b[0m \u001b[32m━━━━━━━━━━━━━━━━━━━━\u001b[0m\u001b[37m\u001b[0m \u001b[1m17s\u001b[0m 124ms/step - accuracy: 0.5702 - loss: 1.0322 - val_accuracy: 0.6103 - val_loss: 0.9927\n",
      "Epoch 35/50\n",
      "\u001b[1m138/138\u001b[0m \u001b[32m━━━━━━━━━━━━━━━━━━━━\u001b[0m\u001b[37m\u001b[0m \u001b[1m17s\u001b[0m 123ms/step - accuracy: 0.6258 - loss: 0.9402 - val_accuracy: 0.5871 - val_loss: 1.0293\n",
      "Epoch 36/50\n",
      "\u001b[1m138/138\u001b[0m \u001b[32m━━━━━━━━━━━━━━━━━━━━\u001b[0m\u001b[37m\u001b[0m \u001b[1m17s\u001b[0m 124ms/step - accuracy: 0.6240 - loss: 0.9527 - val_accuracy: 0.6062 - val_loss: 0.9937\n",
      "Epoch 37/50\n",
      "\u001b[1m138/138\u001b[0m \u001b[32m━━━━━━━━━━━━━━━━━━━━\u001b[0m\u001b[37m\u001b[0m \u001b[1m17s\u001b[0m 123ms/step - accuracy: 0.6232 - loss: 0.9450 - val_accuracy: 0.6216 - val_loss: 0.9682\n",
      "Epoch 38/50\n",
      "\u001b[1m138/138\u001b[0m \u001b[32m━━━━━━━━━━━━━━━━━━━━\u001b[0m\u001b[37m\u001b[0m \u001b[1m17s\u001b[0m 123ms/step - accuracy: 0.6252 - loss: 0.9510 - val_accuracy: 0.6057 - val_loss: 0.9972\n",
      "Epoch 39/50\n",
      "\u001b[1m138/138\u001b[0m \u001b[32m━━━━━━━━━━━━━━━━━━━━\u001b[0m\u001b[37m\u001b[0m \u001b[1m17s\u001b[0m 123ms/step - accuracy: 0.6375 - loss: 0.9367 - val_accuracy: 0.6084 - val_loss: 0.9914\n",
      "Epoch 40/50\n",
      "\u001b[1m138/138\u001b[0m \u001b[32m━━━━━━━━━━━━━━━━━━━━\u001b[0m\u001b[37m\u001b[0m \u001b[1m17s\u001b[0m 123ms/step - accuracy: 0.6288 - loss: 0.9410 - val_accuracy: 0.6311 - val_loss: 0.9584\n",
      "Epoch 41/50\n",
      "\u001b[1m138/138\u001b[0m \u001b[32m━━━━━━━━━━━━━━━━━━━━\u001b[0m\u001b[37m\u001b[0m \u001b[1m17s\u001b[0m 124ms/step - accuracy: 0.6319 - loss: 0.9311 - val_accuracy: 0.6207 - val_loss: 0.9679\n",
      "Epoch 42/50\n",
      "\u001b[1m138/138\u001b[0m \u001b[32m━━━━━━━━━━━━━━━━━━━━\u001b[0m\u001b[37m\u001b[0m \u001b[1m17s\u001b[0m 124ms/step - accuracy: 0.6348 - loss: 0.9392 - val_accuracy: 0.6266 - val_loss: 0.9699\n",
      "Epoch 43/50\n",
      "\u001b[1m138/138\u001b[0m \u001b[32m━━━━━━━━━━━━━━━━━━━━\u001b[0m\u001b[37m\u001b[0m \u001b[1m17s\u001b[0m 124ms/step - accuracy: 0.6411 - loss: 0.9207 - val_accuracy: 0.6107 - val_loss: 0.9886\n",
      "Epoch 44/50\n",
      "\u001b[1m138/138\u001b[0m \u001b[32m━━━━━━━━━━━━━━━━━━━━\u001b[0m\u001b[37m\u001b[0m \u001b[1m17s\u001b[0m 124ms/step - accuracy: 0.6285 - loss: 0.9443 - val_accuracy: 0.6284 - val_loss: 0.9536\n",
      "Epoch 45/50\n",
      "\u001b[1m138/138\u001b[0m \u001b[32m━━━━━━━━━━━━━━━━━━━━\u001b[0m\u001b[37m\u001b[0m \u001b[1m17s\u001b[0m 124ms/step - accuracy: 0.6377 - loss: 0.9208 - val_accuracy: 0.6230 - val_loss: 0.9567\n",
      "Epoch 46/50\n",
      "\u001b[1m138/138\u001b[0m \u001b[32m━━━━━━━━━━━━━━━━━━━━\u001b[0m\u001b[37m\u001b[0m \u001b[1m17s\u001b[0m 123ms/step - accuracy: 0.6369 - loss: 0.9287 - val_accuracy: 0.6320 - val_loss: 0.9566\n",
      "Epoch 47/50\n",
      "\u001b[1m138/138\u001b[0m \u001b[32m━━━━━━━━━━━━━━━━━━━━\u001b[0m\u001b[37m\u001b[0m \u001b[1m17s\u001b[0m 124ms/step - accuracy: 0.6367 - loss: 0.9333 - val_accuracy: 0.6157 - val_loss: 0.9741\n",
      "Epoch 48/50\n",
      "\u001b[1m138/138\u001b[0m \u001b[32m━━━━━━━━━━━━━━━━━━━━\u001b[0m\u001b[37m\u001b[0m \u001b[1m17s\u001b[0m 124ms/step - accuracy: 0.6325 - loss: 0.9327 - val_accuracy: 0.6289 - val_loss: 0.9628\n",
      "Epoch 49/50\n",
      "\u001b[1m138/138\u001b[0m \u001b[32m━━━━━━━━━━━━━━━━━━━━\u001b[0m\u001b[37m\u001b[0m \u001b[1m17s\u001b[0m 124ms/step - accuracy: 0.6433 - loss: 0.9144 - val_accuracy: 0.6221 - val_loss: 0.9649\n",
      "\u001b[1m69/69\u001b[0m \u001b[32m━━━━━━━━━━━━━━━━━━━━\u001b[0m\u001b[37m\u001b[0m \u001b[1m2s\u001b[0m 16ms/step - accuracy: 0.6341 - loss: 0.9430\n",
      "Test Accuracy: 0.6284028887748718\n"
     ]
    }
   ],
   "source": [
    "# history = model.fit(\n",
    "\n",
    "#     X_train, y_train,\n",
    "\n",
    "#     epochs=100,\n",
    "\n",
    "#     batch_size=32,\n",
    "\n",
    "#     validation_data=(X_test, y_test),\n",
    "\n",
    "#     class_weight=class_weight_dict,\n",
    "\n",
    "#     callbacks=[early_stopping, lr_reduction]\n",
    "\n",
    "# )\n",
    "\n",
    "# Train the model\n",
    "\n",
    "history = model.fit(\n",
    "\n",
    "    X_train, y_train,\n",
    "\n",
    "    epochs=50,\n",
    "\n",
    "    batch_size=64,\n",
    "\n",
    "    validation_data=(X_test, y_test),\n",
    "\n",
    "    callbacks=[early_stopping]\n",
    "\n",
    "\n",
    "\n",
    ")\n",
    "\n",
    "\n",
    "\n",
    "# Evaluate the model\n",
    "\n",
    "loss, accuracy = model.evaluate(X_test, y_test)\n",
    "\n",
    "print(f'Test Accuracy: {accuracy}')"
   ]
  },
  {
   "cell_type": "code",
   "execution_count": 22,
   "metadata": {
    "execution": {
     "iopub.execute_input": "2024-12-12T19:24:18.054043Z",
     "iopub.status.busy": "2024-12-12T19:24:18.053755Z",
     "iopub.status.idle": "2024-12-12T19:24:20.136179Z",
     "shell.execute_reply": "2024-12-12T19:24:20.135370Z",
     "shell.execute_reply.started": "2024-12-12T19:24:18.054015Z"
    },
    "executionInfo": {
     "elapsed": 8,
     "status": "aborted",
     "timestamp": 1733963056559,
     "user": {
      "displayName": "Soham Vijaykumar Faldu",
      "userId": "13996138885784315256"
     },
     "user_tz": 300
    },
    "id": "ZmN7gBqWiYfb",
    "trusted": true
   },
   "outputs": [
    {
     "name": "stdout",
     "output_type": "stream",
     "text": [
      "\u001b[1m69/69\u001b[0m \u001b[32m━━━━━━━━━━━━━━━━━━━━\u001b[0m\u001b[37m\u001b[0m \u001b[1m1s\u001b[0m 16ms/step - accuracy: 0.6341 - loss: 0.9430\n",
      "Test Accuracy: 62.84%\n"
     ]
    }
   ],
   "source": [
    "# Evaluate on test data\n",
    "\n",
    "test_loss, test_accuracy = model.evaluate(X_test, y_test)\n",
    "\n",
    "print(f'Test Accuracy: {test_accuracy * 100:.2f}%')\n"
   ]
  },
  {
   "cell_type": "code",
   "execution_count": 23,
   "metadata": {
    "execution": {
     "iopub.execute_input": "2024-12-12T19:24:20.138130Z",
     "iopub.status.busy": "2024-12-12T19:24:20.137452Z",
     "iopub.status.idle": "2024-12-12T19:24:23.099928Z",
     "shell.execute_reply": "2024-12-12T19:24:23.099043Z",
     "shell.execute_reply.started": "2024-12-12T19:24:20.138084Z"
    },
    "executionInfo": {
     "elapsed": 7,
     "status": "aborted",
     "timestamp": 1733963056559,
     "user": {
      "displayName": "Soham Vijaykumar Faldu",
      "userId": "13996138885784315256"
     },
     "user_tz": 300
    },
    "id": "eObaSczYiYfb",
    "trusted": true
   },
   "outputs": [
    {
     "name": "stdout",
     "output_type": "stream",
     "text": [
      "\u001b[1m69/69\u001b[0m \u001b[32m━━━━━━━━━━━━━━━━━━━━\u001b[0m\u001b[37m\u001b[0m \u001b[1m2s\u001b[0m 22ms/step\n",
      "              precision    recall  f1-score   support\n",
      "\n",
      "       angry       0.72      0.69      0.70       485\n",
      "       happy       0.00      0.00      0.00       309\n",
      "         sad       0.66      0.69      0.67       557\n",
      "     neutral       0.58      0.78      0.66       853\n",
      "\n",
      "    accuracy                           0.63      2204\n",
      "   macro avg       0.49      0.54      0.51      2204\n",
      "weighted avg       0.55      0.63      0.58      2204\n",
      "\n"
     ]
    },
    {
     "name": "stderr",
     "output_type": "stream",
     "text": [
      "/opt/conda/lib/python3.10/site-packages/sklearn/metrics/_classification.py:1344: UndefinedMetricWarning: Precision and F-score are ill-defined and being set to 0.0 in labels with no predicted samples. Use `zero_division` parameter to control this behavior.\n",
      "  _warn_prf(average, modifier, msg_start, len(result))\n",
      "/opt/conda/lib/python3.10/site-packages/sklearn/metrics/_classification.py:1344: UndefinedMetricWarning: Precision and F-score are ill-defined and being set to 0.0 in labels with no predicted samples. Use `zero_division` parameter to control this behavior.\n",
      "  _warn_prf(average, modifier, msg_start, len(result))\n",
      "/opt/conda/lib/python3.10/site-packages/sklearn/metrics/_classification.py:1344: UndefinedMetricWarning: Precision and F-score are ill-defined and being set to 0.0 in labels with no predicted samples. Use `zero_division` parameter to control this behavior.\n",
      "  _warn_prf(average, modifier, msg_start, len(result))\n"
     ]
    }
   ],
   "source": [
    "# Predict classes\n",
    "\n",
    "y_pred_probs = model.predict(X_test)\n",
    "\n",
    "y_pred = np.argmax(y_pred_probs, axis=1)\n",
    "\n",
    "y_true = np.argmax(y_test, axis=1)\n",
    "\n",
    "\n",
    "\n",
    "# Classification report\n",
    "\n",
    "target_names = ['angry', 'happy', 'sad', 'neutral']\n",
    "\n",
    "print(classification_report(y_true, y_pred, target_names=target_names))\n"
   ]
  },
  {
   "cell_type": "code",
   "execution_count": 24,
   "metadata": {
    "execution": {
     "iopub.execute_input": "2024-12-12T19:24:23.101370Z",
     "iopub.status.busy": "2024-12-12T19:24:23.101066Z",
     "iopub.status.idle": "2024-12-12T19:24:23.602130Z",
     "shell.execute_reply": "2024-12-12T19:24:23.601260Z",
     "shell.execute_reply.started": "2024-12-12T19:24:23.101314Z"
    },
    "executionInfo": {
     "elapsed": 7,
     "status": "aborted",
     "timestamp": 1733963056559,
     "user": {
      "displayName": "Soham Vijaykumar Faldu",
      "userId": "13996138885784315256"
     },
     "user_tz": 300
    },
    "id": "19IYYx3NiYfb",
    "trusted": true
   },
   "outputs": [
    {
     "data": {
      "image/png": "[encoded data removed]",
      "text/plain": [
       "<Figure size 1200x500 with 2 Axes>"
      ]
     },
     "metadata": {},
     "output_type": "display_data"
    }
   ],
   "source": [
    "# Plot training & validation accuracy values\n",
    "\n",
    "plt.figure(figsize=(12, 5))\n",
    "\n",
    "\n",
    "\n",
    "plt.subplot(1, 2, 1)\n",
    "\n",
    "plt.plot(history.history['accuracy'], label='Train Acc')\n",
    "\n",
    "plt.plot(history.history['val_accuracy'], label='Val Acc')\n",
    "\n",
    "plt.title('Model Accuracy')\n",
    "\n",
    "plt.ylabel('Accuracy')\n",
    "\n",
    "plt.xlabel('Epoch')\n",
    "\n",
    "plt.legend(loc='lower right')\n",
    "\n",
    "\n",
    "\n",
    "# Plot training & validation loss values\n",
    "\n",
    "plt.subplot(1, 2, 2)\n",
    "\n",
    "plt.plot(history.history['loss'], label='Train Loss')\n",
    "\n",
    "plt.plot(history.history['val_loss'], label='Val Loss')\n",
    "\n",
    "plt.title('Model Loss')\n",
    "\n",
    "plt.ylabel('Loss')\n",
    "\n",
    "plt.xlabel('Epoch')\n",
    "\n",
    "plt.legend(loc='upper right')\n",
    "\n",
    "\n",
    "\n",
    "plt.tight_layout()\n",
    "\n",
    "plt.show()\n"
   ]
  }
 ],
 "metadata": {
  "accelerator": "GPU",
  "colab": {
   "gpuType": "T4",
   "provenance": []
  },
  "kaggle": {
   "accelerator": "gpu",
   "dataSources": [
    {
     "datasetId": 6290819,
     "sourceId": 10183439,
     "sourceType": "datasetVersion"
    },
    {
     "datasetId": 6304268,
     "sourceId": 10201732,
     "sourceType": "datasetVersion"
    }
   ],
   "dockerImageVersionId": 30805,
   "isGpuEnabled": true,
   "isInternetEnabled": true,
   "language": "python",
   "sourceType": "notebook"
  },
  "kernelspec": {
   "display_name": "Python 3",
   "language": "python",
   "name": "python3"
  },
  "language_info": {
   "codemirror_mode": {
    "name": "ipython",
    "version": 3
   },
   "file_extension": ".py",
   "mimetype": "text/x-python",
   "name": "python",
   "nbconvert_exporter": "python",
   "pygments_lexer": "ipython3",
   "version": "3.10.14"
  }
 },
 "nbformat": 4,
 "nbformat_minor": 4
}
