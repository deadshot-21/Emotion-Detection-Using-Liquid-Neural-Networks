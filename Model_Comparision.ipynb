{
 "cells": [
  {
   "cell_type": "code",
   "execution_count": 1,
   "metadata": {
    "execution": {
     "iopub.execute_input": "2024-12-15T20:39:57.351472Z",
     "iopub.status.busy": "2024-12-15T20:39:57.351150Z",
     "iopub.status.idle": "2024-12-15T20:40:09.417076Z",
     "shell.execute_reply": "2024-12-15T20:40:09.416365Z",
     "shell.execute_reply.started": "2024-12-15T20:39:57.351443Z"
    },
    "trusted": true
   },
   "outputs": [],
   "source": [
    "# General Import Statements\n",
    "import os\n",
    "import numpy as np\n",
    "import librosa\n",
    "import librosa.display\n",
    "import matplotlib.pyplot as plt\n",
    "from sklearn.model_selection import train_test_split\n",
    "from sklearn.metrics import classification_report\n",
    "from sklearn.preprocessing import StandardScaler\n",
    "from sklearn.utils.class_weight import compute_class_weight\n",
    "import tensorflow as tf\n",
    "from tensorflow.keras.utils import to_categorical\n",
    "from tensorflow.keras.models import Model\n",
    "from tensorflow.keras.layers import Input, Dense, RNN, Layer\n",
    "from tensorflow.keras.optimizers import Adam\n",
    "from tensorflow.keras.regularizers import l2\n",
    "from sklearn.svm import SVC\n",
    "from sklearn.ensemble import RandomForestClassifier\n",
    "from sklearn.linear_model import LogisticRegression\n",
    "from sklearn.metrics import accuracy_score, classification_report\n",
    "import tensorflow as tf\n",
    "from tensorflow.keras.models import Sequential\n",
    "from tensorflow.keras.layers import LSTM, Dense, Dropout\n",
    "import matplotlib.pyplot as plt\n",
    "import numpy as np\n",
    "\n",
    "\n",
    "# tf.keras.backend.clear_session()"
   ]
  },
  {
   "cell_type": "code",
   "execution_count": 2,
   "metadata": {
    "execution": {
     "iopub.execute_input": "2024-12-15T20:40:09.420045Z",
     "iopub.status.busy": "2024-12-15T20:40:09.418934Z",
     "iopub.status.idle": "2024-12-15T20:40:09.424595Z",
     "shell.execute_reply": "2024-12-15T20:40:09.423390Z",
     "shell.execute_reply.started": "2024-12-15T20:40:09.420004Z"
    },
    "trusted": true
   },
   "outputs": [],
   "source": [
    "def clipped_relu(x):\n",
    "\n",
    "    return tf.keras.activations.relu(x, max_value=20.0)\n",
    "\n",
    "def clipped_sigmoid(x):\n",
    "\n",
    "    return tf.keras.activations.sigmoid(x) * 10.0"
   ]
  },
  {
   "cell_type": "code",
   "execution_count": 3,
   "metadata": {
    "execution": {
     "iopub.execute_input": "2024-12-15T20:40:09.426393Z",
     "iopub.status.busy": "2024-12-15T20:40:09.426024Z",
     "iopub.status.idle": "2024-12-15T20:40:09.449204Z",
     "shell.execute_reply": "2024-12-15T20:40:09.448482Z",
     "shell.execute_reply.started": "2024-12-15T20:40:09.426349Z"
    },
    "trusted": true
   },
   "outputs": [],
   "source": [
    "import tensorflow.keras as keras\n",
    "@keras.utils.register_keras_serializable(package=\"Custom\", name=\"LTCCell\")\n",
    "class LTCCell(Layer):\n",
    "\n",
    "    def __init__(self, units, ode_unfolds=6, l2_reg=0.001, **kwargs):\n",
    "\n",
    "        super(LTCCell, self).__init__(**kwargs)\n",
    "\n",
    "        self.units = units\n",
    "\n",
    "        self.ode_unfolds = ode_unfolds\n",
    "\n",
    "        self.state_size = units\n",
    "\n",
    "        self.l2_reg = l2_reg  # L2 regularization parameter\n",
    "\n",
    "\n",
    "\n",
    "    def build(self, input_shape):\n",
    "\n",
    "        self.input_dim = input_shape[-1]\n",
    "        # Trainable parameters with L2 regularization\n",
    "\n",
    "        self.W = self.add_weight(\n",
    "\n",
    "            shape=(self.input_dim + self.units, self.units),\n",
    "\n",
    "            initializer='glorot_uniform',\n",
    "\n",
    "            regularizer=l2(self.l2_reg),\n",
    "\n",
    "            name='W'\n",
    "\n",
    "        )\n",
    "\n",
    "        self.bias = self.add_weight(\n",
    "\n",
    "            shape=(self.units,),\n",
    "\n",
    "            initializer='zeros',\n",
    "\n",
    "            name='bias'\n",
    "\n",
    "        )\n",
    "\n",
    "        self.tau = self.add_weight(\n",
    "\n",
    "            shape=(self.units,),\n",
    "\n",
    "            initializer='ones',\n",
    "\n",
    "            name='tau'\n",
    "\n",
    "        )\n",
    "\n",
    "        # Additional parameters for the LTC model\n",
    "\n",
    "        self.C = self.add_weight(\n",
    "\n",
    "            shape=(self.units,),\n",
    "\n",
    "            initializer='ones',\n",
    "\n",
    "            name='C'\n",
    "\n",
    "        )\n",
    "\n",
    "        self.G = self.add_weight(\n",
    "\n",
    "            shape=(self.units,),\n",
    "\n",
    "            initializer='ones',\n",
    "\n",
    "            name='G'\n",
    "\n",
    "        )\n",
    "\n",
    "        super(LTCCell, self).build(input_shape)\n",
    "\n",
    "    def call(self, inputs, states):\n",
    "\n",
    "        prev_state = states[0]\n",
    "\n",
    "        concatenated = tf.concat([inputs, prev_state], axis=1)\n",
    "\n",
    "        dt = 0.01  # Time step\n",
    "\n",
    "        for _ in range(self.ode_unfolds):\n",
    "\n",
    "            dh = (-prev_state + tf.nn.tanh(tf.matmul(concatenated, self.W) + self.bias)) / tf.nn.softplus(self.tau)\n",
    "\n",
    "            prev_state += dt * dh\n",
    "\n",
    "        # Apply custom activation functions\n",
    "\n",
    "        prev_state = clipped_relu(prev_state)\n",
    "\n",
    "        prev_state = prev_state * clipped_sigmoid(self.C)\n",
    "\n",
    "        prev_state = prev_state / clipped_sigmoid(self.G)\n",
    "\n",
    "        return prev_state, [prev_state]\n",
    "    \n",
    "    def get_config(self):\n",
    "        \n",
    "        config = super(LTCCell, self).get_config()\n",
    "        \n",
    "        config.update({\"units\": self.units})\n",
    "        \n",
    "        return config"
   ]
  },
  {
   "cell_type": "code",
   "execution_count": 5,
   "metadata": {
    "execution": {
     "iopub.execute_input": "2024-12-15T20:40:10.304617Z",
     "iopub.status.busy": "2024-12-15T20:40:10.304356Z",
     "iopub.status.idle": "2024-12-15T20:40:34.805825Z",
     "shell.execute_reply": "2024-12-15T20:40:34.804938Z",
     "shell.execute_reply.started": "2024-12-15T20:40:10.304591Z"
    },
    "trusted": true
   },
   "outputs": [
    {
     "name": "stdout",
     "output_type": "stream",
     "text": [
      "Shape of X_train: (14368, 998, 39)\n",
      "Shape of X_test: (3592, 998, 39)\n",
      "Shape of y_train: (14368, 4)\n",
      "Shape of y_test: (3592, 4)\n"
     ]
    }
   ],
   "source": [
    "input_dir = '/kaggle/input/lnn-dl-6' \n",
    "\n",
    "X_train = np.load(os.path.join(input_dir, 'X_train.npy'))\n",
    "X_test = np.load(os.path.join(input_dir, 'X_test.npy'))\n",
    "y_train = np.load(os.path.join(input_dir, 'y_train.npy'))\n",
    "y_test = np.load(os.path.join(input_dir, 'y_test.npy'))\n",
    "class_weight = np.load(os.path.join(input_dir, 'class_weights.npy'))\n",
    "\n",
    "# Convert class weights to a dictionary\n",
    "num_classes = 4\n",
    "class_weight_dict = dict(enumerate(class_weight))\n",
    "\n",
    "# Print shapes of the loaded arrays\n",
    "print(f'Shape of X_train: {X_train.shape}')\n",
    "print(f'Shape of X_test: {X_test.shape}')\n",
    "print(f'Shape of y_train: {y_train.shape}')\n",
    "print(f'Shape of y_test: {y_test.shape}')\n",
    "\n",
    "# Reshape X_train and X_test to 2D\n",
    "X_train_2d = X_train.reshape(X_train.shape[0], -1)\n",
    "X_test_2d = X_test.reshape(X_test.shape[0], -1)\n",
    "\n",
    "y_train_categorical = np.argmax(y_train, axis=1)\n",
    "y_test_categorical = np.argmax(y_test, axis=1)"
   ]
  },
  {
   "cell_type": "code",
   "execution_count": null,
   "metadata": {
    "_cell_guid": "b1076dfc-b9ad-4769-8c92-a6c4dae69d19",
    "_uuid": "8f2839f25d086af736a60e9eeb907d3b93b6e0e5",
    "execution": {
     "iopub.execute_input": "2024-12-15T21:25:25.792174Z",
     "iopub.status.busy": "2024-12-15T21:25:25.791817Z",
     "iopub.status.idle": "2024-12-15T21:53:27.163683Z",
     "shell.execute_reply": "2024-12-15T21:53:27.162794Z",
     "shell.execute_reply.started": "2024-12-15T21:25:25.792142Z"
    },
    "trusted": true
   },
   "outputs": [],
   "source": [
    "\n",
    "# Define the models\n",
    "# svm_model = SVC(kernel='linear', C=1.0, random_state=42)\n",
    "rf_model = RandomForestClassifier(n_estimators=100, random_state=42)\n",
    "lr_model = LogisticRegression(max_iter=1000, random_state=42)\n",
    "\n",
    "# Define the LSTM model\n",
    "def build_lstm_model(input_shape, num_classes):\n",
    "    model = Sequential()\n",
    "    model.add(LSTM(128, return_sequences=True, input_shape=input_shape))\n",
    "    model.add(Dropout(0.5))\n",
    "    model.add(LSTM(64, return_sequences=False))\n",
    "    model.add(Dropout(0.5))\n",
    "    model.add(Dense(64, activation='relu'))\n",
    "    model.add(Dropout(0.5))\n",
    "    model.add(Dense(num_classes, activation='softmax'))\n",
    "    model.compile(optimizer='adam', loss='categorical_crossentropy', metrics=['accuracy'])\n",
    "    return model\n"
   ]
  },
  {
   "cell_type": "code",
   "execution_count": null,
   "metadata": {},
   "outputs": [],
   "source": [
    "\n",
    "# Build the LSTM model\n",
    "lstm_model = build_lstm_model(input_shape=(X_train.shape[1], X_train.shape[2]), num_classes=4)\n",
    "\n",
    "# Train the models\n",
    "rf_model.fit(X_train_2d, y_train_categorical)\n",
    "lr_model.fit(X_train_2d, y_train_categorical)\n",
    "\n",
    "# Train the LSTM model\n",
    "lstm_history = lstm_model.fit(\n",
    "    X_train, y_train,\n",
    "    epochs=20,\n",
    "    batch_size=64,\n",
    "    validation_data=(X_test, y_test),\n",
    "    # callbacks=[early_stopping]\n",
    ")\n",
    "\n"
   ]
  },
  {
   "cell_type": "code",
   "execution_count": null,
   "metadata": {},
   "outputs": [],
   "source": [
    "from tensorflow.keras.models import load_model\n",
    "lnn_model = load_model('/kaggle/input/emotion_model_625/keras/default/1/emotion_model_625.h5', custom_objects={\"LTCCell\": LTCCell})\n",
    "\n",
    "lnn_loss, lnn_accuracy = lnn_model.evaluate(X_test, y_test)\n",
    "\n",
    "# Predict on the test set\n",
    "# y_pred_svm = svm_model.predict(X_test_2d)\n",
    "y_pred_rf = rf_model.predict(X_test_2d)\n",
    "y_pred_lr = lr_model.predict(X_test_2d)\n",
    "# y_pred_lnn = lnn_model.predict(X_test)\n",
    "\n",
    "# Evaluate the models\n",
    "# svm_accuracy = accuracy_score(y_test_categorical, y_pred_svm)\n",
    "rf_accuracy = accuracy_score(y_test_categorical, y_pred_rf)\n",
    "lr_accuracy = accuracy_score(y_test_categorical, y_pred_lr)\n",
    "# lnn_accuracy = accuracy_score(X_test, y_pred_lnn)\n",
    "\n",
    "\n",
    "# Evaluate the LSTM model\n",
    "lstm_loss, lstm_accuracy = lstm_model.evaluate(X_test, y_test)\n",
    "\n",
    "print(f\"LSTM Accuracy: {lstm_accuracy}\")\n",
    "# print(f\"SVM Accuracy: {svm_accuracy}\")\n",
    "print(f\"Random Forest Accuracy: {rf_accuracy}\")\n",
    "print(f\"Logistic Regression Accuracy: {lr_accuracy}\")\n",
    "print(f\"Liquid Neural Networks Accuracy: {lnn_accuracy}\")\n"
   ]
  },
  {
   "cell_type": "code",
   "execution_count": 14,
   "metadata": {
    "execution": {
     "iopub.execute_input": "2024-12-15T22:01:18.152128Z",
     "iopub.status.busy": "2024-12-15T22:01:18.151441Z",
     "iopub.status.idle": "2024-12-15T22:01:23.632977Z",
     "shell.execute_reply": "2024-12-15T22:01:23.632084Z",
     "shell.execute_reply.started": "2024-12-15T22:01:18.152093Z"
    },
    "trusted": true
   },
   "outputs": [
    {
     "name": "stdout",
     "output_type": "stream",
     "text": [
      "\u001b[1m113/113\u001b[0m \u001b[32m━━━━━━━━━━━━━━━━━━━━\u001b[0m\u001b[37m\u001b[0m \u001b[1m4s\u001b[0m 24ms/step - accuracy: 0.6258 - loss: 0.9099\n"
     ]
    },
    {
     "data": {
      "image/png": "[encoded data removed]",
      "text/plain": [
       "<Figure size 1000x600 with 1 Axes>"
      ]
     },
     "metadata": {},
     "output_type": "display_data"
    }
   ],
   "source": [
    "\n",
    "\n",
    "models = ['Random Forest', 'Logistic Regression', 'LNN', 'LSTM']\n",
    "accuracies = [rf_accuracy, lr_accuracy, lnn_accuracy, lstm_accuracy]\n",
    "\n",
    "# Plotting the results\n",
    "plt.figure(figsize=(10, 6))\n",
    "plt.bar(models, accuracies, color=['green', 'orange', 'red', 'purple'])\n",
    "plt.title('Model Comparison - Accuracy')\n",
    "plt.xlabel('Models')\n",
    "plt.ylabel('Accuracy')\n",
    "plt.ylim(0, 1)  # Set y-axis limit to match accuracy range\n",
    "plt.show()"
   ]
  }
 ],
 "metadata": {
  "kaggle": {
   "accelerator": "gpu",
   "dataSources": [
    {
     "datasetId": 6292134,
     "sourceId": 10185245,
     "sourceType": "datasetVersion"
    },
    {
     "isSourceIdPinned": true,
     "modelId": 192467,
     "modelInstanceId": 170141,
     "sourceId": 199471,
     "sourceType": "modelInstanceVersion"
    },
    {
     "isSourceIdPinned": true,
     "modelId": 192555,
     "modelInstanceId": 170232,
     "sourceId": 199571,
     "sourceType": "modelInstanceVersion"
    },
    {
     "isSourceIdPinned": true,
     "modelId": 192560,
     "modelInstanceId": 170237,
     "sourceId": 199576,
     "sourceType": "modelInstanceVersion"
    }
   ],
   "dockerImageVersionId": 30805,
   "isGpuEnabled": true,
   "isInternetEnabled": true,
   "language": "python",
   "sourceType": "notebook"
  },
  "kernelspec": {
   "display_name": "dl",
   "language": "python",
   "name": "python3"
  },
  "language_info": {
   "codemirror_mode": {
    "name": "ipython",
    "version": 3
   },
   "file_extension": ".py",
   "mimetype": "text/x-python",
   "name": "python",
   "nbconvert_exporter": "python",
   "pygments_lexer": "ipython3",
   "version": "3.12.0"
  }
 },
 "nbformat": 4,
 "nbformat_minor": 4
}
