{
 "cells": [
  {
   "cell_type": "code",
   "execution_count": 1,
   "metadata": {},
   "outputs": [],
   "source": [
    "import os\n",
    "import numpy as np\n",
    "import librosa\n",
    "import librosa.display\n",
    "import matplotlib.pyplot as plt\n",
    "from sklearn.model_selection import train_test_split\n",
    "from sklearn.metrics import classification_report\n",
    "from sklearn.preprocessing import StandardScaler\n",
    "from sklearn.utils.class_weight import compute_class_weight\n",
    "import tensorflow as tf\n",
    "from tensorflow.keras.utils import to_categorical\n",
    "from tensorflow.keras.models import Model\n",
    "from tensorflow.keras.layers import Input, Dense, RNN, Layer\n",
    "from tensorflow.keras.optimizers import Adam\n"
   ]
  },
  {
   "cell_type": "code",
   "execution_count": 2,
   "metadata": {},
   "outputs": [],
   "source": [
    "# Emotion labels in IEMOCAP\n",
    "emotions = {'ang': 0, 'hap': 1, 'sad': 2, 'neu': 3}\n"
   ]
  },
  {
   "cell_type": "code",
   "execution_count": 3,
   "metadata": {},
   "outputs": [
    {
     "name": "stdout",
     "output_type": "stream",
     "text": [
      "Total samples loaded: 2755\n"
     ]
    }
   ],
   "source": [
    "def load_iemocap_data(data_path):\n",
    "    data = []\n",
    "    labels = []\n",
    "    sessions = [f'Session{i}' for i in range(1, 4)]\n",
    "    for session in sessions:\n",
    "        wav_folder = os.path.join(data_path, session, 'sentences', 'wav')\n",
    "        # print(wav_folder)\n",
    "        emo_eval_folder = os.path.join(data_path, session, 'dialog', 'EmoEvaluation')\n",
    "        # print(emo_eval_folder)\n",
    "        for root, _, files in os.walk(wav_folder):\n",
    "            for file in files:\n",
    "                if file.endswith('.wav'):\n",
    "                    wav_file = os.path.join(root, file)\n",
    "                    # Corresponding emotion label file\n",
    "                    emo_file = os.path.join(emo_eval_folder, os.path.basename(root) + '.txt')\n",
    "                    with open(emo_file, 'r') as f:\n",
    "                        for line in f:\n",
    "                            if file[:-4] in line:\n",
    "                                parts = line.strip().split('\\t')\n",
    "                                if len(parts) >= 4:\n",
    "                                    emotion = parts[2]\n",
    "                                    if emotion in emotions:\n",
    "                                        data.append(wav_file)\n",
    "                                        labels.append(emotions[emotion])\n",
    "                                break\n",
    "    return data, labels\n",
    "\n",
    "# Load data\n",
    "data_path = './IEMOCAP'  # Update this path\n",
    "data_files, data_labels = load_iemocap_data(data_path)\n",
    "print(f'Total samples loaded: {len(data_files)}')\n"
   ]
  },
  {
   "cell_type": "code",
   "execution_count": 4,
   "metadata": {},
   "outputs": [],
   "source": [
    "def extract_features(file_name):\n",
    "    audio, sample_rate = librosa.load(file_name, sr=None)\n",
    "    # Extract MFCCs\n",
    "    mfcc = librosa.feature.mfcc(y=audio, sr=sample_rate, n_mfcc=13)\n",
    "    # Compute delta and delta-delta of MFCCs\n",
    "    mfcc_delta = librosa.feature.delta(mfcc)\n",
    "    mfcc_delta2 = librosa.feature.delta(mfcc, order=2)\n",
    "    # Concatenate features\n",
    "    features = np.concatenate((mfcc, mfcc_delta, mfcc_delta2), axis=0)\n",
    "    return features.T  # Shape: (time_steps, features)"
   ]
  },
  {
   "cell_type": "code",
   "execution_count": 5,
   "metadata": {},
   "outputs": [],
   "source": [
    "def augment_audio(audio, sample_rate):\n",
    "    augmented_audios = []\n",
    "    # Pitch Shifting\n",
    "    audio_pitched = librosa.effects.pitch_shift(audio, sr=sample_rate, n_steps=2)\n",
    "    augmented_audios.append(audio_pitched)\n",
    "    # Time Stretching\n",
    "    audio_stretched = librosa.effects.time_stretch(audio, rate=0.9)\n",
    "    augmented_audios.append(audio_stretched)\n",
    "    # Adding Noise\n",
    "    noise = np.random.normal(0, 0.005, audio.shape)\n",
    "    audio_noisy = audio + noise\n",
    "    augmented_audios.append(audio_noisy)\n",
    "    return augmented_audios\n",
    "\n"
   ]
  },
  {
   "cell_type": "code",
   "execution_count": 6,
   "metadata": {},
   "outputs": [],
   "source": [
    "def extract_features_from_audio(audio, sample_rate):\n",
    "    mfcc = librosa.feature.mfcc(y=audio, sr=sample_rate, n_mfcc=13)\n",
    "    mfcc_delta = librosa.feature.delta(mfcc)\n",
    "    mfcc_delta2 = librosa.feature.delta(mfcc, order=2)\n",
    "    features = np.concatenate((mfcc, mfcc_delta, mfcc_delta2), axis=0)\n",
    "    return features.T\n",
    "\n",
    "X = []\n",
    "y = []\n",
    "\n",
    "for i, file in enumerate(data_files):\n",
    "    audio, sr = librosa.load(file, sr=None)\n",
    "    # Original features\n",
    "    features = extract_features_from_audio(audio, sr)\n",
    "    X.append(features)\n",
    "    y.append(data_labels[i])\n",
    "    # Data augmentation\n",
    "    augmented_audios = augment_audio(audio, sr)\n",
    "    for aug_audio in augmented_audios:\n",
    "        # Ensure same length\n",
    "        aug_audio = librosa.util.fix_length(aug_audio, size=len(audio))\n",
    "        features_aug = extract_features_from_audio(aug_audio, sr)\n",
    "        X.append(features_aug)\n",
    "        y.append(data_labels[i])\n",
    "\n"
   ]
  },
  {
   "cell_type": "code",
   "execution_count": null,
   "metadata": {},
   "outputs": [],
   "source": [
    "# Find the maximum sequence length\n",
    "sequence_lengths = [len(features) for features in X]\n",
    "max_length = max(sequence_lengths)\n",
    "print(f'Maximum sequence length: {max_length}')\n",
    "\n",
    "# Pad sequences\n",
    "def pad_sequence(features, max_length):\n",
    "    if len(features) < max_length:\n",
    "        pad_width = max_length - len(features)\n",
    "        return np.pad(features, ((0, pad_width), (0, 0)), mode='constant')\n",
    "    else:\n",
    "        return features[:max_length, :]\n",
    "\n",
    "X_padded = [pad_sequence(features, max_length) for features in X]\n",
    "X_padded = np.array(X_padded)\n",
    "y = np.array(y)\n",
    "print(f'Shape of X_padded: {X_padded.shape}')\n"
   ]
  },
  {
   "cell_type": "code",
   "execution_count": 37,
   "metadata": {},
   "outputs": [],
   "source": [
    "# Reshape for normalization\n",
    "num_samples, time_steps, num_features = X_padded.shape\n",
    "X_reshaped = X_padded.reshape(-1, num_features)\n",
    "\n",
    "# Standardize features\n",
    "scaler = StandardScaler()\n",
    "X_normalized = scaler.fit_transform(X_reshaped)\n",
    "\n",
    "# Reshape back to original shape\n",
    "X_normalized = X_normalized.reshape(num_samples, time_steps, num_features)\n"
   ]
  },
  {
   "cell_type": "code",
   "execution_count": 38,
   "metadata": {},
   "outputs": [
    {
     "name": "stdout",
     "output_type": "stream",
     "text": [
      "Class weights: {0: np.float64(1.0176790571169538), 1: np.float64(1.8865546218487395), 2: np.float64(1.0355166051660516), 3: np.float64(0.6572014051522248)}\n"
     ]
    }
   ],
   "source": [
    "# Compute class weights\n",
    "class_weights = compute_class_weight('balanced', classes=np.unique(y), y=y)\n",
    "class_weight_dict = dict(enumerate(class_weights))\n",
    "np.save('class_weights.npy', class_weights)\n",
    "print(f'Class weights: {class_weight_dict}')\n"
   ]
  },
  {
   "cell_type": "code",
   "execution_count": 39,
   "metadata": {},
   "outputs": [
    {
     "name": "stdout",
     "output_type": "stream",
     "text": [
      "Training samples: 14368, Testing samples: 3592\n"
     ]
    }
   ],
   "source": [
    "# One-hot encode labels\n",
    "num_classes = len(emotions)\n",
    "y_encoded = to_categorical(y)\n",
    "\n",
    "# Split into training and testing sets\n",
    "X_train, X_test, y_train, y_test = train_test_split(\n",
    "    X_normalized, y_encoded, test_size=0.2, random_state=42, stratify=y)\n",
    "\n",
    "print(f'Training samples: {X_train.shape[0]}, Testing samples: {X_test.shape[0]}')\n"
   ]
  },
  {
   "cell_type": "code",
   "execution_count": 45,
   "metadata": {},
   "outputs": [
    {
     "name": "stdout",
     "output_type": "stream",
     "text": [
      "Number of different labels in y: 4\n",
      "Counts of each label in y: {np.int64(0): np.int64(4412), np.int64(1): np.int64(2380), np.int64(2): np.int64(4336), np.int64(3): np.int64(6832)}\n"
     ]
    }
   ],
   "source": [
    "unique_labels, counts = np.unique(y, return_counts=True)\n",
    "label_counts = dict(zip(unique_labels, counts))\n",
    "print(f'Number of different labels in y: {len(unique_labels)}')\n",
    "print(f'Counts of each label in y: {label_counts}')"
   ]
  },
  {
   "cell_type": "code",
   "execution_count": 46,
   "metadata": {},
   "outputs": [],
   "source": [
    "# Save the arrays to .npy files\n",
    "np.save('X_train.npy', X_train)\n",
    "np.save('X_test.npy', X_test)\n",
    "np.save('y_train.npy', y_train)\n",
    "np.save('y_test.npy', y_test)"
   ]
  },
  {
   "cell_type": "code",
   "execution_count": 48,
   "metadata": {},
   "outputs": [
    {
     "name": "stdout",
     "output_type": "stream",
     "text": [
      "Shape of X_train: (8816, 911, 39)\n",
      "Shape of X_test: (2204, 911, 39)\n",
      "Shape of y_train: (8816,)\n",
      "Shape of y_test: (2204,)\n"
     ]
    }
   ],
   "source": [
    "# Load the arrays from .npy files\n",
    "X_train = np.load('X_train.npy')\n",
    "X_test = np.load('X_test.npy')\n",
    "y_train = np.load('y_train.npy')\n",
    "y_test = np.load('y_test.npy')\n",
    "\n",
    "print(f'Shape of X_train: {X_train.shape}')\n",
    "print(f'Shape of X_test: {X_test.shape}')\n",
    "print(f'Shape of y_train: {y_train.shape}')\n",
    "print(f'Shape of y_test: {y_test.shape}')"
   ]
  },
  {
   "cell_type": "code",
   "execution_count": 14,
   "metadata": {},
   "outputs": [
    {
     "name": "stdout",
     "output_type": "stream",
     "text": [
      "Number of different labels in y_train: 2\n",
      "Counts of each label in y_train: {np.float64(0.0): np.int64(34059), np.float64(1.0): np.int64(11353)}\n"
     ]
    }
   ],
   "source": [
    "unique_labels, counts = np.unique(y_train, return_counts=True)\n",
    "label_counts = dict(zip(unique_labels, counts))\n",
    "print(f'Number of different labels in y_train: {len(unique_labels)}')\n",
    "print(f'Counts of each label in y_train: {label_counts}')"
   ]
  }
 ],
 "metadata": {
  "kernelspec": {
   "display_name": "dl",
   "language": "python",
   "name": "python3"
  },
  "language_info": {
   "codemirror_mode": {
    "name": "ipython",
    "version": 3
   },
   "file_extension": ".py",
   "mimetype": "text/x-python",
   "name": "python",
   "nbconvert_exporter": "python",
   "pygments_lexer": "ipython3",
   "version": "3.12.0"
  }
 },
 "nbformat": 4,
 "nbformat_minor": 2
}
